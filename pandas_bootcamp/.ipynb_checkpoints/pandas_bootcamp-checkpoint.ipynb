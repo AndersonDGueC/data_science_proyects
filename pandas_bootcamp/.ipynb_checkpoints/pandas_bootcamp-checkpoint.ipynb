{
 "cells": [
  {
   "cell_type": "markdown",
   "metadata": {
    "colab_type": "text",
    "id": "fKfAYNq5wXOY"
   },
   "source": [
    "# Pandas"
   ]
  },
  {
   "cell_type": "markdown",
   "metadata": {},
   "source": [
    "## Introduction to `pandas`\n",
    "\n",
    "`pandas` is a package built on top of `numpy`. The core object of this package is the `DataFrame`, which are multidimensional datasets with row and column labels. In addition to offering an interface for tagged data, `pandas` also has powerful data manipulation functions."
   ]
  },
  {
   "cell_type": "markdown",
   "metadata": {},
   "source": [
    "### Installing `pandas`\n",
    "\n",
    "Installation of `pandas` requires that you first have `numpy` installed. To install it, use the command:\n",
    "\n",
    "```\n",
    "# Installing using pip\n",
    "pip install pandas\n",
    "\n",
    "# Installing using conda\n",
    "conda install pandas\n",
    "```"
   ]
  },
  {
   "cell_type": "markdown",
   "metadata": {},
   "source": [
    "This can also be done for this case by executing `pip install -r requirements.txt` for this case."
   ]
  },
  {
   "cell_type": "markdown",
   "metadata": {},
   "source": [
    "After installation, you can import it. The version can be checked as follows:"
   ]
  },
  {
   "cell_type": "code",
   "execution_count": null,
   "metadata": {},
   "outputs": [],
   "source": [
    "# Import libraries\n",
    "import pandas as pd\n",
    "import numpy as np"
   ]
  },
  {
   "cell_type": "code",
   "execution_count": null,
   "metadata": {},
   "outputs": [],
   "source": [
    "# Pandas Version\n",
    "pd.__version__"
   ]
  },
  {
   "cell_type": "markdown",
   "metadata": {},
   "source": [
    "### `pandas` objects"
   ]
  },
  {
   "cell_type": "code",
   "execution_count": null,
   "metadata": {},
   "outputs": [],
   "source": [
    "from IPython.display import Image\n",
    "Image(filename='base_01_pandas_5_0.png', width=500)\n",
    "# Resource: https://bookdata.readthedocs.io/en/latest/base/01_pandas.html"
   ]
  },
  {
   "cell_type": "markdown",
   "metadata": {},
   "source": [
    "Let's work with the famous [Titanic dataset](https://www.kaggle.com/c/titanic/data). Here are the available fields:\n",
    "\n",
    "- `passengerId`: A numerical ID assigned to each passenger\n",
    "- `survived`: Whether the passenger survived (1), or didn't (0)\n",
    "- `pclass`: The class the passenger was in\n",
    "- `name`: the name of the passenger\n",
    "- `sex`: The gender of the passenger - male or female\n",
    "- `Age`: The age of the passenger (includes fractional values)\n",
    "- `sibsp`: The number of siblings and spouses the passenger had on board\n",
    "- `parch`: The number of parents and children the passenger had on board\n",
    "- `ticket`: The ticket number of the passenger\n",
    "- `fare`: How much the passenger paid for the ticket\n",
    "- `cabin`: Which cabin the passenger was in\n",
    "- `embarked`: Where the passenger boarded the Titanic"
   ]
  },
  {
   "cell_type": "code",
   "execution_count": null,
   "metadata": {
    "colab": {},
    "colab_type": "code",
    "id": "AGT0V0lkwXOa"
   },
   "outputs": [],
   "source": [
    "# Load the file\n",
    "titanic = pd.read_csv(\"Datasets/train.csv\")"
   ]
  },
  {
   "cell_type": "code",
   "execution_count": null,
   "metadata": {},
   "outputs": [],
   "source": [
    "titanic.index"
   ]
  },
  {
   "cell_type": "code",
   "execution_count": null,
   "metadata": {
    "scrolled": true
   },
   "outputs": [],
   "source": [
    "titanic.columns"
   ]
  },
  {
   "cell_type": "code",
   "execution_count": null,
   "metadata": {},
   "outputs": [],
   "source": [
    "type(titanic.PassengerId)"
   ]
  },
  {
   "cell_type": "code",
   "execution_count": null,
   "metadata": {
    "colab": {},
    "colab_type": "code",
    "id": "0wS7IOxZ3tRE"
   },
   "outputs": [],
   "source": [
    "type(titanic)"
   ]
  },
  {
   "cell_type": "code",
   "execution_count": null,
   "metadata": {},
   "outputs": [],
   "source": [
    "titanic.values"
   ]
  },
  {
   "cell_type": "markdown",
   "metadata": {},
   "source": [
    "### Indexers: `loc` and `iloc`\n",
    "\n",
    "Pandas provides some special *indexer* attributes that explicitly expose certain indexing schemes. These are not functional methods, but attributes that expose a particular way to retrieve slices of the data.\n",
    "\n",
    "The ``loc`` attribute allows indexing and segmenting that always refers to the explicit index. The ``iloc`` attribute allows indexing and segmenting that always refers to the implicit Python-style index. To illustrate the difference, let's look at the examples below. Notice that `loc` is inclusive of both ends of specified ranges, and that columns are specified by name. On the other hand, `iloc` is exclusive of the upper end of specified ranges, and columns are specified by numerical index."
   ]
  },
  {
   "cell_type": "code",
   "execution_count": null,
   "metadata": {},
   "outputs": [],
   "source": [
    "titanic.loc[10:15,'PassengerId':'Age']"
   ]
  },
  {
   "cell_type": "code",
   "execution_count": null,
   "metadata": {
    "scrolled": false
   },
   "outputs": [],
   "source": [
    "titanic.iloc[10:15,0:5]"
   ]
  },
  {
   "cell_type": "markdown",
   "metadata": {},
   "source": [
    "### Data selection"
   ]
  },
  {
   "cell_type": "markdown",
   "metadata": {},
   "source": [
    "Now that we know a bit about how `pandas` indexes data, we can look at how to exrtract it. `pandas` has a number of ways for selecting subsets of a dataset:"
   ]
  },
  {
   "cell_type": "code",
   "execution_count": null,
   "metadata": {},
   "outputs": [],
   "source": [
    "# slicing by implicit index\n",
    "titanic[10:15]"
   ]
  },
  {
   "cell_type": "code",
   "execution_count": null,
   "metadata": {},
   "outputs": [],
   "source": [
    "# fancy indexing\n",
    "titanic[['PassengerId','Age']][10:15]"
   ]
  },
  {
   "cell_type": "code",
   "execution_count": null,
   "metadata": {},
   "outputs": [],
   "source": [
    "# masking\n",
    "titanic[(titanic.Age > 18) & (titanic['Age'] < 50)][10:15]"
   ]
  },
  {
   "cell_type": "code",
   "execution_count": null,
   "metadata": {
    "scrolled": true
   },
   "outputs": [],
   "source": [
    "titanic['Age'][10:15]"
   ]
  },
  {
   "cell_type": "markdown",
   "metadata": {},
   "source": [
    "## Anatomy of a `DataFrame`"
   ]
  },
  {
   "cell_type": "code",
   "execution_count": null,
   "metadata": {},
   "outputs": [],
   "source": [
    "from IPython.display import Image\n",
    "Image(filename='AnatomyDataFrame.png', width=500)\n",
    "#Resource: https://cvw.cac.cornell.edu/PyDataSci1/arrays_dataframes"
   ]
  },
  {
   "cell_type": "markdown",
   "metadata": {},
   "source": [
    "### `concat()`\n",
    "\n",
    "`pandas` has a function, ``pd.concat()``, which has a syntax similar to ``np.concatenate`` but contains different arguments. It can be used for a simple concatenation of ``Series`` or ``DataFrames``:"
   ]
  },
  {
   "cell_type": "code",
   "execution_count": null,
   "metadata": {},
   "outputs": [],
   "source": [
    "df1 = titanic[(titanic.Age > 18) & (titanic['Age'] < 50)][10:15][['PassengerId','Survived']]\n",
    "df1.reset_index(inplace = True)\n",
    "#df1"
   ]
  },
  {
   "cell_type": "code",
   "execution_count": null,
   "metadata": {},
   "outputs": [],
   "source": [
    "df2 = titanic.iloc[10:15,2:5]\n",
    "df2.reset_index(inplace = True)\n",
    "#df2"
   ]
  },
  {
   "cell_type": "code",
   "execution_count": null,
   "metadata": {},
   "outputs": [],
   "source": [
    "pd.concat([df1, df2],sort=True, axis=1)"
   ]
  },
  {
   "cell_type": "code",
   "execution_count": null,
   "metadata": {},
   "outputs": [],
   "source": [
    "pd.concat([df1, df2],ignore_index=True,sort=True, axis=0)"
   ]
  },
  {
   "cell_type": "markdown",
   "metadata": {
    "colab_type": "text",
    "id": "9QYT_aHGwXQV"
   },
   "source": [
    "### `merge()` and `join()`\n",
    "\n",
    "These functions allow data from different dataframes to be combined into one according to a \"crossover\" or \"search\" rule.\n",
    "\n",
    "The `merge()` function is the default `pandas` function for merging data. It's basically `pandas`' counterpart of SQL JOINs, and requires specifying which columns of both DataFrames will be compared. `merge()` doesn't care at all about the indices defined on them.\n",
    "\n",
    "On the other hand, `join()` is basically doing a merge but taking advantage of the indices of both DataFrames.\n",
    "\n",
    "The following figure summarizes the different 4 types of JOINs: _inner, outer, left and right_.\n",
    "\n",
    "![MERGE](http://www.datasciencemadesimple.com/wp-content/uploads/2017/09/join-or-merge-in-python-pandas-1.png)\n",
    "\n",
    "The `merge()` function is also available as a method in the `DataFrame` class. The basic syntax is:\n",
    "\n",
    "```\n",
    "new_joined_df = df.merge (another_df, left_on = \"col_in_df\", right_on = \"col_in_another_df\",\n",
    "                          how=\"inner\"|\"left\"|\"right\"|\"outer\")\n",
    "```\n",
    "\n",
    "The first argument (`another_df`), as well as `left_on` and `right_on` are required arguments. `left_on` specifies a column name in `df` whose values must match those in column `another_df` 'specified in `right_on`. The `how` argument is optional and defaults to `inner`."
   ]
  },
  {
   "cell_type": "code",
   "execution_count": null,
   "metadata": {},
   "outputs": [],
   "source": [
    "staff_df = pd.DataFrame([{'Name': 'Kelly', 'Role': 'Director of HR'},\n",
    "                         {'Name': 'Sally', 'Role': 'Course liasion'},\n",
    "                         {'Name': 'James', 'Role': 'Grader'}])\n",
    "staff_df = staff_df.set_index('Name')\n",
    "student_df = pd.DataFrame([{'Name': 'James', 'School': 'Business'},\n",
    "                           {'Name': 'Mike', 'School': 'Law'},\n",
    "                           {'Name': 'Sally', 'School': 'Engineering'}])\n",
    "student_df = student_df.set_index('Name')"
   ]
  },
  {
   "cell_type": "code",
   "execution_count": null,
   "metadata": {},
   "outputs": [],
   "source": [
    "pd.merge(staff_df, student_df,left_index=True, right_index=True)"
   ]
  },
  {
   "cell_type": "code",
   "execution_count": null,
   "metadata": {
    "scrolled": true
   },
   "outputs": [],
   "source": [
    "pd.merge(staff_df, student_df, how='outer', left_index=True, right_index=True)"
   ]
  },
  {
   "cell_type": "code",
   "execution_count": null,
   "metadata": {},
   "outputs": [],
   "source": [
    "pd.merge(staff_df, student_df, how='left', left_index=True, right_index=True)"
   ]
  },
  {
   "cell_type": "code",
   "execution_count": null,
   "metadata": {},
   "outputs": [],
   "source": [
    "pd.merge(staff_df, student_df, how='right', left_index=True, right_index=True)"
   ]
  },
  {
   "cell_type": "code",
   "execution_count": null,
   "metadata": {},
   "outputs": [],
   "source": [
    "staff_df = staff_df.reset_index()\n",
    "student_df = student_df.reset_index()"
   ]
  },
  {
   "cell_type": "code",
   "execution_count": null,
   "metadata": {},
   "outputs": [],
   "source": [
    "pd.merge(staff_df, student_df, how=\"left\", left_on=\"Name\", right_on=\"Name\")"
   ]
  },
  {
   "cell_type": "code",
   "execution_count": null,
   "metadata": {},
   "outputs": [],
   "source": [
    "pd.merge(staff_df, student_df, how=\"left\",on=\"Name\")"
   ]
  },
  {
   "cell_type": "code",
   "execution_count": null,
   "metadata": {},
   "outputs": [],
   "source": [
    "staff_df = pd.DataFrame([{'First Name': 'Kelly', 'Last Name': 'Desjardins', 'Role': 'Director of HR'},\n",
    "                         {'First Name': 'Sally', 'Last Name': 'Brooks', 'Role': 'Course liasion'},\n",
    "                         {'First Name': 'James', 'Last Name': 'Wilde', 'Role': 'Grader'}])"
   ]
  },
  {
   "cell_type": "code",
   "execution_count": null,
   "metadata": {},
   "outputs": [],
   "source": [
    "student_df = pd.DataFrame([{'First Name': 'James', 'Last Name': 'Hammond', 'School': 'Business'},\n",
    "                           {'First Name': 'Mike', 'Last Name': 'Smith', 'School': 'Law'},\n",
    "                           {'First Name': 'Sally', 'Last Name': 'Brooks', 'School': 'Engineering'}])"
   ]
  },
  {
   "cell_type": "code",
   "execution_count": null,
   "metadata": {},
   "outputs": [],
   "source": [
    "pd.merge(staff_df, student_df, how='inner', left_on=['First Name','Last Name'], right_on=['First Name','Last Name'])"
   ]
  },
  {
   "cell_type": "markdown",
   "metadata": {},
   "source": [
    "## Aggregation and grouping\n",
    "\n",
    "An essential part of analyzing lots of data is creating efficient summaries of it. Computational aggregations, such as ``sum()``, ``mean()``, ``median()``, ``min()`` and ``max()``, allow us to use relatively few numbers to give us an idea of the nature of a potentially large dataset.\n",
    "\n",
    "In this section, we will explore aggregations in `pandas`, from simple operations similar to what we have seen in `numpy` arrays, to more sophisticated operations based on the concept of `groupby()`."
   ]
  },
  {
   "cell_type": "code",
   "execution_count": null,
   "metadata": {},
   "outputs": [],
   "source": [
    "titanic['Age'].mean()"
   ]
  },
  {
   "cell_type": "code",
   "execution_count": null,
   "metadata": {},
   "outputs": [],
   "source": [
    "titanic.groupby('Sex').size()"
   ]
  },
  {
   "cell_type": "code",
   "execution_count": null,
   "metadata": {},
   "outputs": [],
   "source": [
    "titanic.groupby('Sex').agg({'Age':['min','mean','max']})"
   ]
  },
  {
   "cell_type": "markdown",
   "metadata": {},
   "source": [
    "### `crosstab()`\n",
    "\n",
    "One of the useful functions in `pandas` is `crosstab()`. This allows us to segregate our data into buckets using the classes of a few categorical variables, then construct a table showing the number of data points in each bucket:"
   ]
  },
  {
   "cell_type": "code",
   "execution_count": null,
   "metadata": {
    "scrolled": true
   },
   "outputs": [],
   "source": [
    "pd.crosstab(titanic['Sex'], titanic['Pclass'])"
   ]
  },
  {
   "cell_type": "markdown",
   "metadata": {},
   "source": [
    "### Pivot tables\n",
    "\n",
    "These are just like the pivot tables in Excel. Here, we use it to look at the average age of passengers, segregated by class and gender:"
   ]
  },
  {
   "cell_type": "code",
   "execution_count": null,
   "metadata": {
    "scrolled": true
   },
   "outputs": [],
   "source": [
    "titanic.pivot_table(values='Age',index='Sex',columns='Pclass', aggfunc=np.mean)"
   ]
  },
  {
   "cell_type": "markdown",
   "metadata": {},
   "source": [
    "### A little bit about dates in `pandas`\n",
    "\n",
    "`pandas` has some functionaliy for working with dates as well:"
   ]
  },
  {
   "cell_type": "code",
   "execution_count": null,
   "metadata": {},
   "outputs": [],
   "source": [
    "import seaborn as sns\n",
    "\n",
    "# Load dataset\n",
    "flights = sns.load_dataset('flights')\n",
    "flights.head(2)"
   ]
  },
  {
   "cell_type": "code",
   "execution_count": null,
   "metadata": {},
   "outputs": [],
   "source": [
    "flights['date'] = flights['year'].astype(str)+ ' ' + flights['month'].astype(str)\n",
    "flights.head(2)"
   ]
  },
  {
   "cell_type": "code",
   "execution_count": null,
   "metadata": {
    "scrolled": true
   },
   "outputs": [],
   "source": [
    "flights['date'] = pd.to_datetime(flights['date'])\n",
    "flights.head(2)"
   ]
  },
  {
   "cell_type": "code",
   "execution_count": null,
   "metadata": {},
   "outputs": [],
   "source": [
    "flights.set_index('date',inplace=True)"
   ]
  },
  {
   "cell_type": "code",
   "execution_count": null,
   "metadata": {},
   "outputs": [],
   "source": [
    "flights.groupby(pd.Grouper(freq='Y')).agg({'passengers':'mean'}).plot()"
   ]
  },
  {
   "cell_type": "code",
   "execution_count": null,
   "metadata": {},
   "outputs": [],
   "source": [
    "flights.resample('y').mean()"
   ]
  },
  {
   "cell_type": "code",
   "execution_count": null,
   "metadata": {},
   "outputs": [],
   "source": [
    "flights.index.weekday_name\n",
    "# in newer versions of Pandas, use flights.index.weekday"
   ]
  },
  {
   "cell_type": "code",
   "execution_count": null,
   "metadata": {},
   "outputs": [],
   "source": [
    "flights.resample('y').mean()['passengers'].diff(2)"
   ]
  },
  {
   "cell_type": "code",
   "execution_count": null,
   "metadata": {},
   "outputs": [],
   "source": [
    "flights['1950-12-31':].head()"
   ]
  },
  {
   "cell_type": "code",
   "execution_count": null,
   "metadata": {},
   "outputs": [],
   "source": [
    "flights.reset_index(inplace=True)\n",
    "flights['weekday_name'] = flights['date'].dt.weekday_name"
   ]
  },
  {
   "cell_type": "code",
   "execution_count": null,
   "metadata": {
    "scrolled": false
   },
   "outputs": [],
   "source": [
    "flights.groupby('weekday_name').size()"
   ]
  },
  {
   "cell_type": "code",
   "execution_count": null,
   "metadata": {},
   "outputs": [],
   "source": [
    "flights['weekday_name'] = pd.Categorical(flights['weekday_name'], categories=\n",
    "    ['Monday','Tuesday','Wednesday','Thursday','Friday','Saturday','Sunday'],\n",
    "    ordered=True)"
   ]
  },
  {
   "cell_type": "code",
   "execution_count": null,
   "metadata": {},
   "outputs": [],
   "source": [
    "flights.groupby('weekday_name').size()"
   ]
  },
  {
   "cell_type": "markdown",
   "metadata": {},
   "source": [
    "## Exploring the data\n",
    "\n",
    "As we go through the dataset, knowing some functions that `pandas` provide us to make our lives easier is crucial. Here, we want to identify the types of data in our dataset, if we have nulls in our dataset, etc. Some functions that can help us for this include:\n",
    "\n",
    "```python\n",
    "df.head()\n",
    "df.tail()\n",
    "df.info()\n",
    "df.shape\n",
    "df.columns\n",
    "df.describe()\n",
    "df.value_counts()\n",
    "df.unique()\n",
    "df.nunique()\n",
    "```"
   ]
  },
  {
   "cell_type": "code",
   "execution_count": null,
   "metadata": {
    "colab": {},
    "colab_type": "code",
    "id": "4pBhRys7wXOd"
   },
   "outputs": [],
   "source": [
    "# See first two rows\n",
    "titanic.head(2)"
   ]
  },
  {
   "cell_type": "code",
   "execution_count": null,
   "metadata": {
    "colab": {},
    "colab_type": "code",
    "id": "Q8aE2ArfwXOf"
   },
   "outputs": [],
   "source": [
    "# See last two rows\n",
    "titanic.tail(2)"
   ]
  },
  {
   "cell_type": "code",
   "execution_count": null,
   "metadata": {
    "colab": {},
    "colab_type": "code",
    "id": "8OoLQnC2wXOi"
   },
   "outputs": [],
   "source": [
    "# How many rows and columns in dataset\n",
    "titanic.shape"
   ]
  },
  {
   "cell_type": "code",
   "execution_count": null,
   "metadata": {
    "colab": {},
    "colab_type": "code",
    "id": "-wYw9tGTwXOk"
   },
   "outputs": [],
   "source": [
    "# Data types and amount of null values in dataset\n",
    "titanic.info()"
   ]
  },
  {
   "cell_type": "code",
   "execution_count": null,
   "metadata": {
    "colab": {},
    "colab_type": "code",
    "id": "kzufEPcTwXOm"
   },
   "outputs": [],
   "source": [
    "# Another way to see null values per column\n",
    "titanic.isnull().sum()"
   ]
  },
  {
   "cell_type": "code",
   "execution_count": null,
   "metadata": {
    "colab": {},
    "colab_type": "code",
    "id": "TT_WDvwvwXOo"
   },
   "outputs": [],
   "source": [
    "# Another way to see data types\n",
    "titanic.dtypes"
   ]
  },
  {
   "cell_type": "code",
   "execution_count": null,
   "metadata": {
    "colab": {},
    "colab_type": "code",
    "id": "xmnWo30zwXOr"
   },
   "outputs": [],
   "source": [
    "# Information about numeric columns\n",
    "titanic.describe()"
   ]
  },
  {
   "cell_type": "code",
   "execution_count": null,
   "metadata": {
    "colab": {},
    "colab_type": "code",
    "id": "AcEWb9I-wXOt"
   },
   "outputs": [],
   "source": [
    "# Information about categorical columns\n",
    "titanic.describe(include = ['O'])"
   ]
  },
  {
   "cell_type": "code",
   "execution_count": null,
   "metadata": {
    "colab": {},
    "colab_type": "code",
    "id": "SOL4OlEBwXOv"
   },
   "outputs": [],
   "source": [
    "# Unique values per column excluding null\n",
    "titanic.nunique()"
   ]
  },
  {
   "cell_type": "code",
   "execution_count": null,
   "metadata": {
    "colab": {},
    "colab_type": "code",
    "id": "vSZirHH-wXOx"
   },
   "outputs": [],
   "source": [
    "# Unique values per column including null\n",
    "titanic.nunique(dropna=False)"
   ]
  },
  {
   "cell_type": "code",
   "execution_count": null,
   "metadata": {
    "colab": {},
    "colab_type": "code",
    "id": "XZ4ySfSRwXO0"
   },
   "outputs": [],
   "source": [
    "# Counting\n",
    "titanic.count()"
   ]
  },
  {
   "cell_type": "code",
   "execution_count": null,
   "metadata": {
    "colab": {},
    "colab_type": "code",
    "id": "RtECcmzpwXO2"
   },
   "outputs": [],
   "source": [
    "# Most frequent value in the series\n",
    "titanic['Embarked'].mode()\n",
    "\n",
    "# Unique values of the column 'Embarked'\n",
    "titanic['Embarked'].unique()"
   ]
  },
  {
   "cell_type": "code",
   "execution_count": null,
   "metadata": {
    "colab": {},
    "colab_type": "code",
    "id": "cKMrV_pOwXO6",
    "scrolled": true
   },
   "outputs": [],
   "source": [
    "# How many records do we have by category of the column 'Embarked' without null values\n",
    "titanic['Embarked'].value_counts()"
   ]
  },
  {
   "cell_type": "code",
   "execution_count": null,
   "metadata": {
    "colab": {},
    "colab_type": "code",
    "id": "hFWdudRcwXO8"
   },
   "outputs": [],
   "source": [
    "# How many records do we have by category of the column 'Embarked' with null values\n",
    "titanic['Embarked'].value_counts(dropna=False)"
   ]
  },
  {
   "cell_type": "code",
   "execution_count": null,
   "metadata": {
    "colab": {},
    "colab_type": "code",
    "id": "6A-YEGLuwXO-"
   },
   "outputs": [],
   "source": [
    "# Names of the columns in the dataset\n",
    "titanic.columns"
   ]
  },
  {
   "cell_type": "code",
   "execution_count": null,
   "metadata": {
    "colab": {},
    "colab_type": "code",
    "id": "UC7KMSwuDKNJ"
   },
   "outputs": [],
   "source": [
    "titanic.columns = ['Passenger_Id', 'Survived', 'Pclass', 'Name', 'Sex', 'Age', 'SibSp',\n",
    "       'Parch', 'Ticket', 'Fare', 'Cabin', 'Embarked']\n",
    "titanic = titanic.rename(columns={'Passenger_Id':'PassengerId'})\n",
    "titanic.head()"
   ]
  },
  {
   "cell_type": "code",
   "execution_count": null,
   "metadata": {
    "colab": {},
    "colab_type": "code",
    "id": "BP0XOe_6DcQb"
   },
   "outputs": [],
   "source": [
    "?titanic.rename"
   ]
  },
  {
   "cell_type": "code",
   "execution_count": null,
   "metadata": {
    "colab": {},
    "colab_type": "code",
    "id": "SAeZx3acPF-f"
   },
   "outputs": [],
   "source": [
    "titanic[(titanic['Embarked']=='S') & (titanic['Sex']=='female')][['Name','Age']].head()"
   ]
  },
  {
   "cell_type": "markdown",
   "metadata": {
    "colab_type": "text",
    "id": "B-ESj74vwXPB"
   },
   "source": [
    "### Exercise 1:\n",
    "\n",
    "Using the `sex`, `Age`, and `fare` columns, answer the following questions:\n",
    "\n",
    "1. How many Men and Women do we have in our dataset?\n",
    "2. What is the most frequent age in our dataset?\n",
    "3. What is the most common age for women?\n",
    "4. What is the most common age for men?\n",
    "5. What is the most common ticket price?\n",
    "6. Is the price of the most common ticket the same for men and women?"
   ]
  },
  {
   "cell_type": "code",
   "execution_count": null,
   "metadata": {
    "colab": {},
    "colab_type": "code",
    "id": "XtnI_WIWwXPC"
   },
   "outputs": [],
   "source": [
    "# Your code ..."
   ]
  },
  {
   "cell_type": "markdown",
   "metadata": {
    "colab_type": "text",
    "id": "AJnllASrwXPE"
   },
   "source": [
    "This is what you should get for #1:\n",
    "\n",
    "```\n",
    "male      577\n",
    "female    314\n",
    "Name: Sex, dtype: int64\n",
    "```"
   ]
  },
  {
   "cell_type": "markdown",
   "metadata": {
    "colab_type": "text",
    "id": "SndTBabJwXPF"
   },
   "source": [
    "Double-click __Here__ to see the solution.\n",
    "\n",
    "<!-- Your answer is below:\n",
    "titanic['Sex'].value_counts()\n",
    "-->"
   ]
  },
  {
   "cell_type": "code",
   "execution_count": null,
   "metadata": {
    "colab": {},
    "colab_type": "code",
    "id": "-9Gd439zwXPG"
   },
   "outputs": [],
   "source": [
    "# Your code ..."
   ]
  },
  {
   "cell_type": "markdown",
   "metadata": {
    "colab_type": "text",
    "id": "TlIl0eAewXPK"
   },
   "source": [
    "This is what you should get for #2:\n",
    "\n",
    "```\n",
    "0    24.0\n",
    "dtype: float64\n",
    "```"
   ]
  },
  {
   "cell_type": "markdown",
   "metadata": {
    "colab_type": "text",
    "id": "q23GHhcqwXPL"
   },
   "source": [
    "Double-click __Here__ to see the solution.\n",
    "\n",
    "<!-- Your answer is below:\n",
    "titanic['Age'].mode()\n",
    "-->"
   ]
  },
  {
   "cell_type": "code",
   "execution_count": null,
   "metadata": {
    "colab": {},
    "colab_type": "code",
    "id": "CqBPkrVSwXPM"
   },
   "outputs": [],
   "source": [
    "# Your code ..."
   ]
  },
  {
   "cell_type": "markdown",
   "metadata": {
    "colab_type": "text",
    "id": "BDKK1ifTwXPQ"
   },
   "source": [
    "This is what you should get for #3:\n",
    "\n",
    "```\n",
    "0    24.0\n",
    "dtype: float64\n",
    "```"
   ]
  },
  {
   "cell_type": "markdown",
   "metadata": {
    "colab_type": "text",
    "id": "4DLuxTQVwXPR"
   },
   "source": [
    "Double-click __Here__ to see the solution.\n",
    "\n",
    "<!-- Your answer is below:\n",
    "titanic[titanic['Sex']=='female']['Age'].mode()\n",
    "-->"
   ]
  },
  {
   "cell_type": "code",
   "execution_count": null,
   "metadata": {
    "colab": {},
    "colab_type": "code",
    "id": "P_n71xADwXPR"
   },
   "outputs": [],
   "source": [
    "# Your code ..."
   ]
  },
  {
   "cell_type": "markdown",
   "metadata": {
    "colab_type": "text",
    "id": "NnOC9AfkwXPT"
   },
   "source": [
    "This is what you should get for #4:\n",
    "\n",
    "```\n",
    "0    19.0\n",
    "1    25.0\n",
    "2    28.0\n",
    "dtype: float64\n",
    "```"
   ]
  },
  {
   "cell_type": "markdown",
   "metadata": {
    "colab_type": "text",
    "id": "gvE7wSV0wXPU"
   },
   "source": [
    "Double-click __Here__ to see the solution.\n",
    "\n",
    "<!-- Your answer is below:\n",
    "titanic[titanic['Sex']=='male']['Age'].mode()\n",
    "-->"
   ]
  },
  {
   "cell_type": "code",
   "execution_count": null,
   "metadata": {
    "colab": {},
    "colab_type": "code",
    "id": "L-kjHF7HwXPW"
   },
   "outputs": [],
   "source": [
    "# Your code ..."
   ]
  },
  {
   "cell_type": "markdown",
   "metadata": {
    "colab_type": "text",
    "id": "E6G0-_bTwXPb"
   },
   "source": [
    "This is what you should get for #5:\n",
    "\n",
    "```\n",
    "0    8.05\n",
    "dtype: float64\n",
    "```"
   ]
  },
  {
   "cell_type": "markdown",
   "metadata": {
    "colab_type": "text",
    "id": "DS2DsRyYwXPc"
   },
   "source": [
    "Double-click __Here__ to see the solution.\n",
    "\n",
    "<!-- Your answer is below:\n",
    "titanic['Fare'].mode()\n",
    "-->"
   ]
  },
  {
   "cell_type": "code",
   "execution_count": null,
   "metadata": {
    "colab": {},
    "colab_type": "code",
    "id": "owKd9aoZwXPd"
   },
   "outputs": [],
   "source": [
    "# Your code ..."
   ]
  },
  {
   "cell_type": "markdown",
   "metadata": {
    "colab_type": "text",
    "id": "epzAPVB0wXPf"
   },
   "source": [
    "This is what you should get for #6:\n",
    "\n",
    "```\n",
    "Common ticket price for women :7.75\n",
    "Common ticket price for men :8.05\n",
    "```"
   ]
  },
  {
   "cell_type": "markdown",
   "metadata": {
    "colab_type": "text",
    "id": "zwMunGc5wXPg"
   },
   "source": [
    "Double-click __Here__ to see the solution.\n",
    "\n",
    "<!-- Your answer is below:\n",
    "print('Precio común del tiquete para mujeres :' + str(titanic[titanic['Sex']=='female']['Fare'].mode()[0]))\n",
    "print('Precio común del tiquete para hombres :' + str(titanic[titanic['Sex']=='male']['Fare'].mode()[0]))\n",
    "-->"
   ]
  },
  {
   "cell_type": "markdown",
   "metadata": {
    "colab_type": "text",
    "id": "gn4OORL7wXPh"
   },
   "source": [
    "## Pre-processing our data\n",
    "\n",
    "Now that we have an idea of what our dataset consists of, let's transform it so that we can display phase. The types of activities we may engage in during **pre-processing** include:\n",
    "\n",
    "1. **Deleting columns**\n",
    "2. **Enriching (or Transforming)** a data set, adding newly calculated columns in the indices\n",
    "3. **Filtering** a subset of the rows or columns of a dataset according to some criteria\n",
    "4. **Indexing** a dataset\n",
    "5. **Aggregating** data\n",
    "6. **Sorting** the rows of a data set according to some criteria\n",
    "7. **Merging** the data\n",
    "8. **Pivoting** so that data that was originally laid out vertically is laid out horizontally (increasing the number of columns) or vice versa (increasing the number of rows)\n",
    "\n",
    "among others."
   ]
  },
  {
   "cell_type": "code",
   "execution_count": null,
   "metadata": {
    "colab": {},
    "colab_type": "code",
    "id": "MqeBreYyJxJK"
   },
   "outputs": [],
   "source": [
    "titanic.columns"
   ]
  },
  {
   "cell_type": "code",
   "execution_count": null,
   "metadata": {
    "colab": {},
    "colab_type": "code",
    "id": "wl_OV7gVwXPh"
   },
   "outputs": [],
   "source": [
    "# Delete columns PassengerId, Name, Cabin, we are not going to delete the ticket column yet.\n",
    "titanic.drop(['PassengerId','Name','Cabin'],axis=1, inplace=True)\n",
    "titanic.shape"
   ]
  },
  {
   "cell_type": "code",
   "execution_count": null,
   "metadata": {
    "colab": {},
    "colab_type": "code",
    "id": "OzLvOC03wXPj"
   },
   "outputs": [],
   "source": [
    "# Null validation again\n",
    "titanic.isnull().sum()"
   ]
  },
  {
   "cell_type": "code",
   "execution_count": null,
   "metadata": {
    "colab": {},
    "colab_type": "code",
    "id": "0uE3gsIZwXPn"
   },
   "outputs": [],
   "source": [
    "# In the first 10 records we have a null age field, we are going to have it as a reference for what we are going to do\n",
    "titanic.head(10)"
   ]
  },
  {
   "cell_type": "markdown",
   "metadata": {
    "colab_type": "text",
    "id": "tsC8IhYPwXPq"
   },
   "source": [
    "### Null values\n",
    "\n",
    "Depending on the problem, the treatment of nulls can be handled in different ways:\n",
    "\n",
    "* Keep them\n",
    "* Delete them\n",
    "* Leave a fixed value that differentiates them\n",
    "* Replace them with a summary statistic (mean, median, mode)\n",
    "* Forward or backward fill\n",
    "* Interpolate\n",
    "\n",
    "You will learn about when to do each in a later case."
   ]
  },
  {
   "cell_type": "code",
   "execution_count": null,
   "metadata": {
    "colab": {},
    "colab_type": "code",
    "id": "h7QGmCKpwXPq"
   },
   "outputs": [],
   "source": [
    "# Delete\n",
    "titanic.dropna(inplace=True)\n",
    "titanic.shape"
   ]
  },
  {
   "cell_type": "code",
   "execution_count": null,
   "metadata": {
    "colab": {},
    "colab_type": "code",
    "id": "qZxjRl3dwXPs"
   },
   "outputs": [],
   "source": [
    "# Null validation\n",
    "titanic.isnull().sum()"
   ]
  },
  {
   "cell_type": "code",
   "execution_count": null,
   "metadata": {
    "colab": {},
    "colab_type": "code",
    "id": "AIj9JhIhwXPv",
    "scrolled": true
   },
   "outputs": [],
   "source": [
    "# In the first 10 records we have a null age field, we are going to have it as a reference for what we are going to do\n",
    "titanic.head(10)"
   ]
  },
  {
   "cell_type": "code",
   "execution_count": null,
   "metadata": {
    "colab": {},
    "colab_type": "code",
    "id": "ievYbxlP5qfU"
   },
   "outputs": [],
   "source": [
    "titanic.info()"
   ]
  },
  {
   "cell_type": "code",
   "execution_count": null,
   "metadata": {
    "colab": {},
    "colab_type": "code",
    "id": "ZVrH-YdMLigH",
    "scrolled": true
   },
   "outputs": [],
   "source": [
    "titanic.reset_index(drop=True,inplace=True)\n",
    "titanic.head(10)"
   ]
  },
  {
   "cell_type": "code",
   "execution_count": null,
   "metadata": {
    "colab": {},
    "colab_type": "code",
    "id": "Kpxy60ATL8rI"
   },
   "outputs": [],
   "source": [
    "# Leave a fixed value that differentiates them\n",
    "titanic = pd.read_csv(\"Datasets/train.csv\")\n",
    "titanic.drop(['PassengerId','Name','Cabin'],axis=1, inplace=True)"
   ]
  },
  {
   "cell_type": "code",
   "execution_count": null,
   "metadata": {
    "colab": {},
    "colab_type": "code",
    "id": "kZB7wWM26IUn"
   },
   "outputs": [],
   "source": [
    "titanic.shape"
   ]
  },
  {
   "cell_type": "code",
   "execution_count": null,
   "metadata": {
    "colab": {},
    "colab_type": "code",
    "id": "nA8c7-d4wXPx"
   },
   "outputs": [],
   "source": [
    "titanic.fillna(-1).head(10)"
   ]
  },
  {
   "cell_type": "code",
   "execution_count": null,
   "metadata": {
    "colab": {},
    "colab_type": "code",
    "id": "SSn5Tx13wXPz",
    "scrolled": true
   },
   "outputs": [],
   "source": [
    "titanic['Age'].fillna(titanic['Age'].mean()).head(10)"
   ]
  },
  {
   "cell_type": "code",
   "execution_count": null,
   "metadata": {
    "colab": {},
    "colab_type": "code",
    "id": "UoaYdlapwXP2",
    "scrolled": true
   },
   "outputs": [],
   "source": [
    "titanic['Age'].fillna(titanic['Age'].median()).head(10)"
   ]
  },
  {
   "cell_type": "code",
   "execution_count": null,
   "metadata": {
    "colab": {},
    "colab_type": "code",
    "id": "gXFho5zywXP4",
    "scrolled": true
   },
   "outputs": [],
   "source": [
    "titanic['Age'].fillna(titanic['Age'].mode()[0]).head(10)"
   ]
  },
  {
   "cell_type": "code",
   "execution_count": null,
   "metadata": {
    "colab": {},
    "colab_type": "code",
    "id": "Ii1gOw9SwXP6",
    "scrolled": true
   },
   "outputs": [],
   "source": [
    "titanic['Age'].fillna(method='backfill').head(10)"
   ]
  },
  {
   "cell_type": "code",
   "execution_count": null,
   "metadata": {
    "colab": {},
    "colab_type": "code",
    "id": "Mh2so39dwXP8"
   },
   "outputs": [],
   "source": [
    "titanic['Age'].fillna(method='ffill').head(10)"
   ]
  },
  {
   "cell_type": "code",
   "execution_count": null,
   "metadata": {},
   "outputs": [],
   "source": [
    "titanic['Age'].interpolate(method='polynomial', order=2).head(10)"
   ]
  },
  {
   "cell_type": "markdown",
   "metadata": {
    "colab_type": "text",
    "id": "ZWbIBSzLwXP_"
   },
   "source": [
    "For our exercise we will make the decision to drop the nulls."
   ]
  },
  {
   "cell_type": "code",
   "execution_count": null,
   "metadata": {
    "colab": {},
    "colab_type": "code",
    "id": "QRVxq6sWwXQA"
   },
   "outputs": [],
   "source": [
    "# Drop nulls\n",
    "titanic.dropna(inplace=True)\n",
    "titanic.shape"
   ]
  },
  {
   "cell_type": "markdown",
   "metadata": {
    "colab_type": "text",
    "id": "ZqtDRbqtwXQB"
   },
   "source": [
    "### Column renaming\n",
    "\n",
    "To be practical, we normally modify the names of the columns in order to remove blank spaces and special characters, and to convert uppercase to lowercase:"
   ]
  },
  {
   "cell_type": "code",
   "execution_count": null,
   "metadata": {
    "colab": {},
    "colab_type": "code",
    "id": "gOX3Z3EBwXQC"
   },
   "outputs": [],
   "source": [
    "# Rename columns to lowercase\n",
    "titanic.rename(columns = lambda col: col.lower(),inplace=True)"
   ]
  },
  {
   "cell_type": "code",
   "execution_count": null,
   "metadata": {
    "colab": {},
    "colab_type": "code",
    "id": "82wNI7vgwXQF"
   },
   "outputs": [],
   "source": [
    "# Validate dataset\n",
    "titanic.info()"
   ]
  },
  {
   "cell_type": "code",
   "execution_count": null,
   "metadata": {
    "colab": {},
    "colab_type": "code",
    "id": "5uHldoFANnV8"
   },
   "outputs": [],
   "source": [
    "titanic.shape"
   ]
  },
  {
   "cell_type": "markdown",
   "metadata": {
    "colab_type": "text",
    "id": "PJaQbC8GwXQH"
   },
   "source": [
    "### Indexing"
   ]
  },
  {
   "cell_type": "code",
   "execution_count": null,
   "metadata": {
    "colab": {},
    "colab_type": "code",
    "id": "YvFinM3HwXQI"
   },
   "outputs": [],
   "source": [
    "# After eliminating the nulls, the indexes must be reset, as you can see they still appear from 0 to 890 \n",
    "# even though we have 712 rows.\n",
    "titanic.reset_index(drop=True,inplace=True)\n",
    "titanic.info()"
   ]
  },
  {
   "cell_type": "markdown",
   "metadata": {
    "colab_type": "text",
    "id": "mU_eZjVZwXQL"
   },
   "source": [
    "### Grouping"
   ]
  },
  {
   "cell_type": "code",
   "execution_count": null,
   "metadata": {
    "colab": {},
    "colab_type": "code",
    "id": "Ga5gmgAGOfY1"
   },
   "outputs": [],
   "source": [
    "titanic.groupby(['sex','survived']).size()"
   ]
  },
  {
   "cell_type": "code",
   "execution_count": null,
   "metadata": {
    "colab": {},
    "colab_type": "code",
    "id": "fvVXeAo4PCqb"
   },
   "outputs": [],
   "source": [
    "titanic.groupby(['sex','survived']).agg({'fare':'count','age':'mean'}).reset_index()"
   ]
  },
  {
   "cell_type": "code",
   "execution_count": null,
   "metadata": {
    "colab": {},
    "colab_type": "code",
    "id": "CNMm8BKLwXQM"
   },
   "outputs": [],
   "source": [
    "# Validate duplicate tickets\n",
    "df_tickets = titanic.groupby('ticket').size().reset_index().rename(columns={0:'count'})\n",
    "df_tickets.sort_values(by='count',ascending=False)"
   ]
  },
  {
   "cell_type": "code",
   "execution_count": null,
   "metadata": {
    "colab": {},
    "colab_type": "code",
    "id": "qvWVh4dISLHj"
   },
   "outputs": [],
   "source": [
    "titanic[titanic['ticket']=='347082']"
   ]
  },
  {
   "cell_type": "code",
   "execution_count": null,
   "metadata": {
    "colab": {},
    "colab_type": "code",
    "id": "6cdzfoQKSkwo"
   },
   "outputs": [],
   "source": [
    "titanic[titanic['ticket']=='110413']"
   ]
  },
  {
   "cell_type": "markdown",
   "metadata": {
    "colab_type": "text",
    "id": "bT1PGIwvwXQO"
   },
   "source": [
    "### Ordering"
   ]
  },
  {
   "cell_type": "code",
   "execution_count": null,
   "metadata": {
    "colab": {},
    "colab_type": "code",
    "id": "4i3LawCVwXQP"
   },
   "outputs": [],
   "source": [
    "# Sort the number of records by tickets\n",
    "df_tickets.sort_values(by=[\"count\"],ascending=False,inplace=True)\n",
    "df_tickets.head()"
   ]
  },
  {
   "cell_type": "code",
   "execution_count": null,
   "metadata": {
    "colab": {},
    "colab_type": "code",
    "id": "9HfT4Vu2wXQR"
   },
   "outputs": [],
   "source": [
    "# Let's validate a ticket\n",
    "titanic[titanic['ticket']=='347082']"
   ]
  },
  {
   "cell_type": "markdown",
   "metadata": {
    "colab_type": "text",
    "id": "h-rC1uXRwXQU"
   },
   "source": [
    "### Merging datasets"
   ]
  },
  {
   "cell_type": "code",
   "execution_count": null,
   "metadata": {
    "colab": {},
    "colab_type": "code",
    "id": "2ZfYwhtBwXQX"
   },
   "outputs": [],
   "source": [
    "# First we will add the column 'count' from df_tickets to our titanic dataset\n",
    "titanic = titanic.merge(df_tickets,left_on='ticket',right_on='ticket',how='left')\n",
    "titanic.shape"
   ]
  },
  {
   "cell_type": "code",
   "execution_count": null,
   "metadata": {
    "colab": {},
    "colab_type": "code",
    "id": "QN1lJNGAwXQZ",
    "scrolled": true
   },
   "outputs": [],
   "source": [
    "titanic.head()"
   ]
  },
  {
   "cell_type": "markdown",
   "metadata": {
    "colab_type": "text",
    "id": "gt0MSgDKwXQb"
   },
   "source": [
    "### Enrich dataset\n",
    "\n",
    "We will **enrich** this dataset by creating a new column `family`, which will be \"1\" if the trip was taken with others, and \"0\" if they traveled alone:"
   ]
  },
  {
   "cell_type": "code",
   "execution_count": null,
   "metadata": {
    "colab": {},
    "colab_type": "code",
    "id": "ECbkX4bywXQc"
   },
   "outputs": [],
   "source": [
    "titanic['family'] = [1 if count>1 else 0 for count in titanic['count']]"
   ]
  },
  {
   "cell_type": "code",
   "execution_count": null,
   "metadata": {
    "colab": {},
    "colab_type": "code",
    "id": "PR0SLsd-wXQf",
    "scrolled": true
   },
   "outputs": [],
   "source": [
    "titanic.head()"
   ]
  },
  {
   "cell_type": "markdown",
   "metadata": {
    "colab_type": "text",
    "id": "tOyNuDlVwXQh"
   },
   "source": [
    "### Cleaning text"
   ]
  },
  {
   "cell_type": "code",
   "execution_count": null,
   "metadata": {
    "colab": {},
    "colab_type": "code",
    "id": "auVMrNG9wXQh"
   },
   "outputs": [],
   "source": [
    "# Remember the functions? we are going to create a function that will help us to clean text, in this case the tickets field\n",
    "def clean_text(string):\n",
    "    import re\n",
    "    regex = '[^A-Za-z0-9]+'\n",
    "    return re.sub(regex, '', string)"
   ]
  },
  {
   "cell_type": "code",
   "execution_count": null,
   "metadata": {
    "colab": {},
    "colab_type": "code",
    "id": "rQ_rEv5iwXQi",
    "scrolled": true
   },
   "outputs": [],
   "source": [
    "titanic['ticket'] = titanic['ticket'].apply(clean_text)\n",
    "titanic.head()"
   ]
  },
  {
   "cell_type": "code",
   "execution_count": null,
   "metadata": {
    "colab": {},
    "colab_type": "code",
    "id": "cxs1P1FMwXQl",
    "scrolled": true
   },
   "outputs": [],
   "source": [
    "# To continue we will delete the ticket column\n",
    "titanic.drop('ticket',axis=1,inplace=True)\n",
    "titanic.head()"
   ]
  },
  {
   "cell_type": "markdown",
   "metadata": {
    "colab_type": "text",
    "id": "f0I3lXM1wXQo"
   },
   "source": [
    "### Encoding categorical variables\n",
    "\n",
    "Sometimes, it is helpful to create a column for each possible category of one of our categorical variables. For this, we use a `pandas` method called `get_dummies()`:"
   ]
  },
  {
   "cell_type": "code",
   "execution_count": null,
   "metadata": {
    "colab": {},
    "colab_type": "code",
    "id": "WyySVmnYwXQo"
   },
   "outputs": [],
   "source": [
    "titanic['sexDummies'] = titanic['sex']\n",
    "titanic = pd.get_dummies(titanic, columns = ['sexDummies'], prefix = ['D'])\n",
    "titanic.head()"
   ]
  },
  {
   "cell_type": "markdown",
   "metadata": {
    "colab_type": "text",
    "id": "cIk_RstQwXQr"
   },
   "source": [
    "### Exercise 2:\n",
    "\n",
    "1. Group the data set by gender (`sex`) and calculate the average age (`age`).\n",
    "2. Group the data set by the family column (`family`) and count the number of records per group.\n",
    "3. Of the families, how many survived and how many did not?"
   ]
  },
  {
   "cell_type": "code",
   "execution_count": null,
   "metadata": {
    "colab": {},
    "colab_type": "code",
    "id": "jtxHb5UBwXQr"
   },
   "outputs": [],
   "source": [
    "# Your code ..."
   ]
  },
  {
   "cell_type": "markdown",
   "metadata": {
    "colab_type": "text",
    "id": "dXdUWk-vwXQs"
   },
   "source": [
    "This is what you should get for #1:\n",
    "\n",
    "\n",
    "|_|sex| age | \n",
    "|-----|-----|-----|\n",
    "|0|\tfemale|\t27.915709|\n",
    "|1|male|30.726645|"
   ]
  },
  {
   "cell_type": "markdown",
   "metadata": {
    "colab_type": "text",
    "id": "sfLkk-8gwXQt"
   },
   "source": [
    "Double-click __Here__ to see the solution.\n",
    "\n",
    "<!-- Your answer is below:\n",
    "titanic.groupby('sex').agg({'age':'mean'}).reset_index()\n",
    "-->"
   ]
  },
  {
   "cell_type": "code",
   "execution_count": null,
   "metadata": {
    "colab": {},
    "colab_type": "code",
    "id": "n7Y5MBmbwXQu"
   },
   "outputs": [],
   "source": [
    "# Your code .."
   ]
  },
  {
   "cell_type": "markdown",
   "metadata": {
    "colab_type": "text",
    "id": "WYRojvAgwXQ6"
   },
   "source": [
    "This is what you should get for #2:\n",
    "\n",
    "|_|family| count | \n",
    "|-----|-----|-----|\n",
    "|0|\t0|\t547|\n",
    "|1|1|344|"
   ]
  },
  {
   "cell_type": "markdown",
   "metadata": {
    "colab_type": "text",
    "id": "eJF4NN-twXQ6"
   },
   "source": [
    "Double-click __Here__ to see the solution.\n",
    "\n",
    "<!-- Your answer is below:\n",
    "titanic.groupby(['family']).size().reset_index().rename(columns={0:'count'})\n",
    "-->"
   ]
  },
  {
   "cell_type": "code",
   "execution_count": null,
   "metadata": {
    "colab": {},
    "colab_type": "code",
    "id": "i-FHI-6-wXQ7"
   },
   "outputs": [],
   "source": [
    "# Your code ..."
   ]
  },
  {
   "cell_type": "markdown",
   "metadata": {
    "colab_type": "text",
    "id": "i08w2yvgwXQ9"
   },
   "source": [
    "This is what you should get for #3:\n",
    "\n",
    "|_|family| survived | count |\n",
    "|-----|-----|-----|-----|\n",
    "|0|\t0|\t0| 384|\n",
    "|1|\t0|\t1| 163|\n",
    "|2|\t1|\t0| 165|\n",
    "|3|\t1|\t1| 179|"
   ]
  },
  {
   "cell_type": "markdown",
   "metadata": {
    "colab_type": "text",
    "id": "_20HTE-TwXQ_"
   },
   "source": [
    "Double-click __Here__ to see the solution.\n",
    "\n",
    "<!-- Your answer is below:\n",
    "titanic.groupby(['family','survived']).size().reset_index().rename(columns={0:'count'})\n",
    "-->"
   ]
  },
  {
   "cell_type": "markdown",
   "metadata": {
    "colab_type": "text",
    "id": "0eV0M2sPwXQ_"
   },
   "source": [
    "## Data visualizations\n",
    "\n",
    "To conduct descriptive analysis of our data, we make use of various graphs to gather more information that we will use later on in the data science process when building our models. It is essential to have knowledge of the Python libraries that allow us to generate these visualizations, such as `matplotlib` and `seaborn`. `pandas` also has a few visualization methods."
   ]
  },
  {
   "cell_type": "code",
   "execution_count": null,
   "metadata": {
    "colab": {},
    "colab_type": "code",
    "id": "h7R0JcX2wXRA",
    "scrolled": false
   },
   "outputs": [],
   "source": [
    "import matplotlib.pyplot as plt\n",
    "import seaborn as sns\n",
    "%matplotlib inline\n",
    "\n",
    "titanic.head()"
   ]
  },
  {
   "cell_type": "markdown",
   "metadata": {
    "colab_type": "text",
    "id": "fwNV5qZ_wXRH"
   },
   "source": [
    "### Line chart"
   ]
  },
  {
   "cell_type": "code",
   "execution_count": null,
   "metadata": {
    "colab": {},
    "colab_type": "code",
    "id": "Gktg0uo_wXRH",
    "scrolled": false
   },
   "outputs": [],
   "source": [
    "# Let's start with a simple graph, by not placing X it is assumed that x is each of the records.\n",
    "plt.figure(figsize=(6,3))\n",
    "plt.plot(titanic['age'])\n",
    "plt.title('Titanic Graficando la Edad')\n",
    "plt.xlabel('id')\n",
    "plt.ylabel('age')\n",
    "plt.show()"
   ]
  },
  {
   "cell_type": "code",
   "execution_count": null,
   "metadata": {
    "colab": {},
    "colab_type": "code",
    "id": "I7s2quXxGAG2"
   },
   "outputs": [],
   "source": [
    "?plt"
   ]
  },
  {
   "cell_type": "markdown",
   "metadata": {
    "colab_type": "text",
    "id": "oj5cWRVAwXRJ"
   },
   "source": [
    "### Histogram"
   ]
  },
  {
   "cell_type": "code",
   "execution_count": null,
   "metadata": {
    "colab": {},
    "colab_type": "code",
    "id": "xyIYlbBawXRJ"
   },
   "outputs": [],
   "source": [
    "plt.figure(figsize=(6,4))\n",
    "sns.distplot(titanic['age'])\n",
    "plt.title('Titanic Histograma de la Edad')\n",
    "plt.show()"
   ]
  },
  {
   "cell_type": "code",
   "execution_count": null,
   "metadata": {
    "colab": {},
    "colab_type": "code",
    "id": "HxT0sWGbwXRM"
   },
   "outputs": [],
   "source": [
    "# If we only want the density function\n",
    "plt.figure(figsize=(6,3))\n",
    "sns.kdeplot(titanic['age'],shade=True)\n",
    "plt.title('Titanic Densidad de la Edad')\n",
    "plt.xlabel('age');"
   ]
  },
  {
   "cell_type": "code",
   "execution_count": null,
   "metadata": {
    "colab": {},
    "colab_type": "code",
    "id": "O7tNCnhtwXRP"
   },
   "outputs": [],
   "source": [
    "g = sns.FacetGrid(titanic, col=\"survived\", height=3)\n",
    "g.map(sns.kdeplot, 'age', shade=True)\n",
    "g.despine(left=True,bottom=True);"
   ]
  },
  {
   "cell_type": "code",
   "execution_count": null,
   "metadata": {
    "colab": {},
    "colab_type": "code",
    "id": "Ig744fYbwXRR"
   },
   "outputs": [],
   "source": [
    "g = sns.FacetGrid(titanic, col='survived', row='pclass', hue='sex', height=3)\n",
    "g.map(sns.kdeplot, 'age', shade=True).add_legend()\n",
    "g.despine(left=True, bottom=True)\n",
    "plt.show()"
   ]
  },
  {
   "cell_type": "markdown",
   "metadata": {
    "colab_type": "text",
    "id": "amYbZfdMwXRT"
   },
   "source": [
    "### Boxplot"
   ]
  },
  {
   "cell_type": "code",
   "execution_count": null,
   "metadata": {
    "colab": {},
    "colab_type": "code",
    "id": "lVweoYOiwXRU"
   },
   "outputs": [],
   "source": [
    "plt.figure(figsize=(6,3))\n",
    "sns.boxplot(titanic['age'])#,orient='v')\n",
    "plt.title('Titanic Age Boxplot')\n",
    "plt.show()"
   ]
  },
  {
   "cell_type": "code",
   "execution_count": null,
   "metadata": {
    "colab": {},
    "colab_type": "code",
    "id": "1dUlNYRCwXRX"
   },
   "outputs": [],
   "source": [
    "plt.figure(figsize=(6,4))\n",
    "sns.boxplot(x='survived',y='age',data=titanic)\n",
    "plt.title('Titanic Boxplot of survivors and age')\n",
    "plt.show()"
   ]
  },
  {
   "cell_type": "code",
   "execution_count": null,
   "metadata": {
    "colab": {},
    "colab_type": "code",
    "id": "hsdQZlapwXRa"
   },
   "outputs": [],
   "source": [
    "plt.figure(figsize=(10,4))\n",
    "sns.boxplot(x='sex',y='age',hue='survived',data=titanic)\n",
    "plt.title('Titanic Boxplot of survivors, gender and age')\n",
    "plt.show()"
   ]
  },
  {
   "cell_type": "markdown",
   "metadata": {
    "colab_type": "text",
    "id": "2VbK-8YSwXRc"
   },
   "source": [
    "### Bar chart"
   ]
  },
  {
   "cell_type": "code",
   "execution_count": null,
   "metadata": {
    "colab": {},
    "colab_type": "code",
    "id": "9L1XLdETwXRc",
    "scrolled": false
   },
   "outputs": [],
   "source": [
    "plt.figure(figsize=(6, 4))\n",
    "sns.countplot('survived',data=titanic)\n",
    "plt.show()"
   ]
  },
  {
   "cell_type": "code",
   "execution_count": null,
   "metadata": {
    "colab": {},
    "colab_type": "code",
    "id": "bMILWyeUwXRe"
   },
   "outputs": [],
   "source": [
    "plt.figure(figsize=(6, 4))\n",
    "sns.barplot(y='age',x='pclass',data=titanic)\n",
    "plt.show()"
   ]
  },
  {
   "cell_type": "code",
   "execution_count": null,
   "metadata": {
    "colab": {},
    "colab_type": "code",
    "id": "C2WgyBTtwXRh"
   },
   "outputs": [],
   "source": [
    "plt.figure(figsize=(6, 4))\n",
    "sns.barplot(y='survived',x='sex',hue='pclass',data=titanic)\n",
    "plt.show()"
   ]
  },
  {
   "cell_type": "code",
   "execution_count": null,
   "metadata": {
    "colab": {},
    "colab_type": "code",
    "id": "_zC9Ywt8wXRi",
    "scrolled": false
   },
   "outputs": [],
   "source": [
    "plt.figure(figsize=(6, 4))\n",
    "sns.barplot(y='pclass',x='sex',hue='family',data=titanic)\n",
    "plt.show()"
   ]
  },
  {
   "cell_type": "markdown",
   "metadata": {
    "colab_type": "text",
    "id": "Kp76yk1AwXRj"
   },
   "source": [
    "### Heatmap"
   ]
  },
  {
   "cell_type": "code",
   "execution_count": null,
   "metadata": {
    "colab": {},
    "colab_type": "code",
    "id": "ObdDdDrQXiIc"
   },
   "outputs": [],
   "source": [
    "titanic.drop(['survived','family','D_female','D_male','count'],axis=1).corr()"
   ]
  },
  {
   "cell_type": "code",
   "execution_count": null,
   "metadata": {
    "colab": {},
    "colab_type": "code",
    "id": "FlLA7GojwXRk"
   },
   "outputs": [],
   "source": [
    "plt.figure()\n",
    "sns.heatmap(titanic.drop(['survived','family','D_female','D_male','count'],axis=1).corr(),annot=True, linewidth=0.5,fmt='.1f')\n",
    "plt.show()"
   ]
  },
  {
   "cell_type": "markdown",
   "metadata": {
    "colab_type": "text",
    "id": "KHkA2bnkwXRl"
   },
   "source": [
    "### Scatterplot"
   ]
  },
  {
   "cell_type": "code",
   "execution_count": null,
   "metadata": {
    "colab": {},
    "colab_type": "code",
    "id": "mFoqH4VkwXRo"
   },
   "outputs": [],
   "source": [
    "plt.figure()\n",
    "sns.scatterplot(x='age', y='fare', hue='sex', style='survived', data=titanic)\n",
    "plt.show()"
   ]
  },
  {
   "cell_type": "code",
   "execution_count": null,
   "metadata": {
    "colab": {},
    "colab_type": "code",
    "id": "A-pVDQVFwXRp"
   },
   "outputs": [],
   "source": [
    "plt.figure()\n",
    "sns.scatterplot(x='pclass', y='age', hue='sex', style='survived',size='count', data=titanic)\n",
    "plt.legend(loc='upper left')\n",
    "plt.show()"
   ]
  },
  {
   "cell_type": "code",
   "execution_count": null,
   "metadata": {
    "colab": {},
    "colab_type": "code",
    "id": "9BxLoXqiwXRr"
   },
   "outputs": [],
   "source": [
    "plt.figure()\n",
    "sns.scatterplot(x='age', y='fare',data=titanic)\n",
    "plt.show()"
   ]
  },
  {
   "cell_type": "code",
   "execution_count": null,
   "metadata": {
    "colab": {},
    "colab_type": "code",
    "id": "tTiS-XudVMHb"
   },
   "outputs": [],
   "source": [
    "type(titanic.columns)"
   ]
  },
  {
   "cell_type": "code",
   "execution_count": null,
   "metadata": {
    "colab": {},
    "colab_type": "code",
    "id": "loxiCabxVNET"
   },
   "outputs": [],
   "source": [
    "for  col in titanic.columns:\n",
    "    print(col)"
   ]
  },
  {
   "cell_type": "code",
   "execution_count": null,
   "metadata": {
    "colab": {},
    "colab_type": "code",
    "id": "zzFMwzAiVX9C"
   },
   "outputs": [],
   "source": [
    "import plotly.express as px\n",
    "fig = px.scatter(titanic,x='age',y='fare', color='sex',size='count')\n",
    "fig.show()"
   ]
  }
 ],
 "metadata": {
  "colab": {
   "collapsed_sections": [],
   "name": "Copy of WarmUp.ipynb",
   "provenance": [
    {
     "file_id": "1vTb8B8NI-rDR1W7WL4hpc4bKPYHpSVbg",
     "timestamp": 1591048066000
    },
    {
     "file_id": "1khFis1i_pI7cjnH1Yx8gAXnarpCgK67J",
     "timestamp": 1573763200553
    }
   ]
  },
  "kernelspec": {
   "display_name": "Python 3",
   "language": "python",
   "name": "python3"
  },
  "language_info": {
   "codemirror_mode": {
    "name": "ipython",
    "version": 3
   },
   "file_extension": ".py",
   "mimetype": "text/x-python",
   "name": "python",
   "nbconvert_exporter": "python",
   "pygments_lexer": "ipython3",
   "version": "3.6.7"
  }
 },
 "nbformat": 4,
 "nbformat_minor": 1
}
