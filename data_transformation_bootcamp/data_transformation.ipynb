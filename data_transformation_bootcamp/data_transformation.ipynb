{
 "cells": [
  {
   "cell_type": "markdown",
   "metadata": {},
   "source": [
    "# Data Transformation"
   ]
  },
  {
   "cell_type": "markdown",
   "metadata": {},
   "source": [
    "## What is data transformation?\n",
    "\n",
    "Many times in real life, you will be working with imperfect datasets with quality issues. **Data transformation** is the process of modifying a dataset in appropriate ways in order to eliminate these quality issues. Some of these activities include:\n",
    "\n",
    "- Splitting columns\n",
    "- Converting dates to `datetime` objects, which are far more easily manipulable using `pandas` libraries\n",
    "- Encoding categorical variables\n",
    "- Dealing with and replacing null or missing values\n",
    "- Creating unique identifiers\n",
    "\n",
    "The `pandas` library has many functions which can help with this task. In addition, you will also be using some other standard libraries like `string`, `base64`, and `sklearn`."
   ]
  },
  {
   "cell_type": "code",
   "execution_count": 1,
   "metadata": {},
   "outputs": [
    {
     "data": {
      "text/plain": [
       "'1.1.1'"
      ]
     },
     "execution_count": 1,
     "metadata": {},
     "output_type": "execute_result"
    }
   ],
   "source": [
    "import sklearn\n",
    "sklearn.__version__"
   ]
  },
  {
   "cell_type": "code",
   "execution_count": 5,
   "metadata": {},
   "outputs": [
    {
     "data": {
      "text/html": [
       "<div>\n",
       "<style scoped>\n",
       "    .dataframe tbody tr th:only-of-type {\n",
       "        vertical-align: middle;\n",
       "    }\n",
       "\n",
       "    .dataframe tbody tr th {\n",
       "        vertical-align: top;\n",
       "    }\n",
       "\n",
       "    .dataframe thead th {\n",
       "        text-align: right;\n",
       "    }\n",
       "</style>\n",
       "<table border=\"1\" class=\"dataframe\">\n",
       "  <thead>\n",
       "    <tr style=\"text-align: right;\">\n",
       "      <th></th>\n",
       "      <th>ID</th>\n",
       "      <th>FechaMuestra</th>\n",
       "      <th>ZonaGeografica</th>\n",
       "      <th>TipoDocumento</th>\n",
       "      <th>Documento</th>\n",
       "      <th>Evento</th>\n",
       "      <th>Nombres</th>\n",
       "      <th>Apellidos</th>\n",
       "      <th>Sexo</th>\n",
       "      <th>Condicion_Final</th>\n",
       "      <th>EAPB</th>\n",
       "      <th>Pais_Residencia</th>\n",
       "      <th>Departamento_Residencia</th>\n",
       "      <th>Municipio_Residencia</th>\n",
       "      <th>Trabajador_Salud</th>\n",
       "      <th>Contacto_Caso_Confirmado</th>\n",
       "      <th>EstadoCaso</th>\n",
       "      <th>GenerarResultado</th>\n",
       "      <th>FiltroUsuario</th>\n",
       "      <th>Tipo_Prueba</th>\n",
       "      <th>Fecha_Resultado</th>\n",
       "    </tr>\n",
       "  </thead>\n",
       "  <tbody>\n",
       "    <tr>\n",
       "      <th>0</th>\n",
       "      <td>1</td>\n",
       "      <td>3/26/20</td>\n",
       "      <td>BOGOTA DC-BOGOTA DC</td>\n",
       "      <td>Cédula de ciudadania</td>\n",
       "      <td>1234567891</td>\n",
       "      <td>INFLUENZA HUMANA POR VIRUS NUEVO              ...</td>\n",
       "      <td>DIANA MARIA</td>\n",
       "      <td>MEJIA FONSECA</td>\n",
       "      <td>Femenino</td>\n",
       "      <td></td>\n",
       "      <td>ALIANSALUD</td>\n",
       "      <td>COLOMBIA</td>\n",
       "      <td>BOGOTA DC</td>\n",
       "      <td>BOGOTA DC</td>\n",
       "      <td>NO</td>\n",
       "      <td>NO</td>\n",
       "      <td>RESULTADO_GENERADO                            ...</td>\n",
       "      <td>1</td>\n",
       "      <td>29628</td>\n",
       "      <td>RT-PCR</td>\n",
       "      <td>3/26/20</td>\n",
       "    </tr>\n",
       "    <tr>\n",
       "      <th>1</th>\n",
       "      <td>2</td>\n",
       "      <td>3/29/20</td>\n",
       "      <td>BOGOTA DC-BOGOTA DC</td>\n",
       "      <td>Cédula de ciudadania</td>\n",
       "      <td>1234567892</td>\n",
       "      <td>INFLUENZA HUMANA POR VIRUS NUEVO              ...</td>\n",
       "      <td>JUAN SEBASTIAN</td>\n",
       "      <td>MEJIA FONSECA</td>\n",
       "      <td>Masculino</td>\n",
       "      <td></td>\n",
       "      <td>SURA EPS</td>\n",
       "      <td>COLOMBIA</td>\n",
       "      <td>BOGOTA DC</td>\n",
       "      <td>BOGOTA DC</td>\n",
       "      <td>NO</td>\n",
       "      <td>NO</td>\n",
       "      <td>RESULTADO_GENERADO                            ...</td>\n",
       "      <td>1</td>\n",
       "      <td>29628</td>\n",
       "      <td>RT-PCR</td>\n",
       "      <td>3/29/20</td>\n",
       "    </tr>\n",
       "    <tr>\n",
       "      <th>2</th>\n",
       "      <td>3</td>\n",
       "      <td>4/3/20</td>\n",
       "      <td>BOGOTA DC-BOGOTA DC</td>\n",
       "      <td>Cédula de ciudadania</td>\n",
       "      <td>1234567893</td>\n",
       "      <td>INFLUENZA HUMANA POR VIRUS NUEVO              ...</td>\n",
       "      <td>MARIA BETZAIDA</td>\n",
       "      <td>MEJIA FONSECA</td>\n",
       "      <td>Femenino</td>\n",
       "      <td></td>\n",
       "      <td>CAPITAL SALUD EPS-S</td>\n",
       "      <td>COLOMBIA</td>\n",
       "      <td>BOGOTA DC</td>\n",
       "      <td>BOGOTA DC</td>\n",
       "      <td>NO</td>\n",
       "      <td>NO</td>\n",
       "      <td>RESULTADO_GENERADO                            ...</td>\n",
       "      <td>1</td>\n",
       "      <td>29628</td>\n",
       "      <td>RT-PCR</td>\n",
       "      <td>4/3/20</td>\n",
       "    </tr>\n",
       "    <tr>\n",
       "      <th>3</th>\n",
       "      <td>4</td>\n",
       "      <td>3/31/20</td>\n",
       "      <td>BOGOTA DC-BOGOTA DC</td>\n",
       "      <td>Cédula de ciudadania</td>\n",
       "      <td>1234567894</td>\n",
       "      <td>INFLUENZA HUMANA POR VIRUS NUEVO              ...</td>\n",
       "      <td>JUAN PABLO</td>\n",
       "      <td>MEJIA FONSECA</td>\n",
       "      <td>Masculino</td>\n",
       "      <td></td>\n",
       "      <td>ALIANSALUD</td>\n",
       "      <td>COLOMBIA</td>\n",
       "      <td>BOGOTA DC</td>\n",
       "      <td>BOGOTA DC</td>\n",
       "      <td>NO</td>\n",
       "      <td>NO</td>\n",
       "      <td>RESULTADO_GENERADO                            ...</td>\n",
       "      <td>1</td>\n",
       "      <td>29628</td>\n",
       "      <td>RT-PCR</td>\n",
       "      <td>3/31/20</td>\n",
       "    </tr>\n",
       "    <tr>\n",
       "      <th>4</th>\n",
       "      <td>5</td>\n",
       "      <td>3/17/20</td>\n",
       "      <td>BOGOTA DC-BOGOTA DC</td>\n",
       "      <td>Cédula de ciudadania</td>\n",
       "      <td>1234567895</td>\n",
       "      <td>INFLUENZA HUMANA POR VIRUS NUEVO              ...</td>\n",
       "      <td>LUIS EDUARDO JUNIOR</td>\n",
       "      <td>MEJIA FONSECA</td>\n",
       "      <td>Femenino</td>\n",
       "      <td></td>\n",
       "      <td>COMPENSAR EPS</td>\n",
       "      <td>COLOMBIA</td>\n",
       "      <td>BOGOTA DC</td>\n",
       "      <td>BOGOTA DC</td>\n",
       "      <td>NO</td>\n",
       "      <td>NO</td>\n",
       "      <td>RESULTADO_GENERADO                            ...</td>\n",
       "      <td>1</td>\n",
       "      <td>29628</td>\n",
       "      <td>RT-PCR</td>\n",
       "      <td>3/17/20</td>\n",
       "    </tr>\n",
       "  </tbody>\n",
       "</table>\n",
       "</div>"
      ],
      "text/plain": [
       "   ID FechaMuestra       ZonaGeografica         TipoDocumento   Documento  \\\n",
       "0   1      3/26/20  BOGOTA DC-BOGOTA DC  Cédula de ciudadania  1234567891   \n",
       "1   2      3/29/20  BOGOTA DC-BOGOTA DC  Cédula de ciudadania  1234567892   \n",
       "2   3       4/3/20  BOGOTA DC-BOGOTA DC  Cédula de ciudadania  1234567893   \n",
       "3   4      3/31/20  BOGOTA DC-BOGOTA DC  Cédula de ciudadania  1234567894   \n",
       "4   5      3/17/20  BOGOTA DC-BOGOTA DC  Cédula de ciudadania  1234567895   \n",
       "\n",
       "                                              Evento              Nombres  \\\n",
       "0  INFLUENZA HUMANA POR VIRUS NUEVO              ...          DIANA MARIA   \n",
       "1  INFLUENZA HUMANA POR VIRUS NUEVO              ...       JUAN SEBASTIAN   \n",
       "2  INFLUENZA HUMANA POR VIRUS NUEVO              ...       MARIA BETZAIDA   \n",
       "3  INFLUENZA HUMANA POR VIRUS NUEVO              ...           JUAN PABLO   \n",
       "4  INFLUENZA HUMANA POR VIRUS NUEVO              ...  LUIS EDUARDO JUNIOR   \n",
       "\n",
       "       Apellidos       Sexo       Condicion_Final                 EAPB  \\\n",
       "0  MEJIA FONSECA   Femenino                                 ALIANSALUD   \n",
       "1  MEJIA FONSECA  Masculino                                   SURA EPS   \n",
       "2  MEJIA FONSECA   Femenino                        CAPITAL SALUD EPS-S   \n",
       "3  MEJIA FONSECA  Masculino                                 ALIANSALUD   \n",
       "4  MEJIA FONSECA   Femenino                              COMPENSAR EPS   \n",
       "\n",
       "  Pais_Residencia Departamento_Residencia Municipio_Residencia  \\\n",
       "0        COLOMBIA               BOGOTA DC            BOGOTA DC   \n",
       "1        COLOMBIA               BOGOTA DC            BOGOTA DC   \n",
       "2        COLOMBIA               BOGOTA DC            BOGOTA DC   \n",
       "3        COLOMBIA               BOGOTA DC            BOGOTA DC   \n",
       "4        COLOMBIA               BOGOTA DC            BOGOTA DC   \n",
       "\n",
       "  Trabajador_Salud Contacto_Caso_Confirmado  \\\n",
       "0               NO                       NO   \n",
       "1               NO                       NO   \n",
       "2               NO                       NO   \n",
       "3               NO                       NO   \n",
       "4               NO                       NO   \n",
       "\n",
       "                                          EstadoCaso  GenerarResultado  \\\n",
       "0  RESULTADO_GENERADO                            ...                 1   \n",
       "1  RESULTADO_GENERADO                            ...                 1   \n",
       "2  RESULTADO_GENERADO                            ...                 1   \n",
       "3  RESULTADO_GENERADO                            ...                 1   \n",
       "4  RESULTADO_GENERADO                            ...                 1   \n",
       "\n",
       "   FiltroUsuario Tipo_Prueba Fecha_Resultado  \n",
       "0          29628      RT-PCR         3/26/20  \n",
       "1          29628      RT-PCR         3/29/20  \n",
       "2          29628      RT-PCR          4/3/20  \n",
       "3          29628      RT-PCR         3/31/20  \n",
       "4          29628      RT-PCR         3/17/20  "
      ]
     },
     "execution_count": 5,
     "metadata": {},
     "output_type": "execute_result"
    }
   ],
   "source": [
    "import pandas as pd\n",
    "import base64\n",
    "from sklearn.experimental import enable_iterative_imputer\n",
    "from sklearn.impute import IterativeImputer\n",
    "\n",
    "#pd.set_option('max_columns', None) old version pandas\n",
    "pd.set_option('display.max_columns', None)\n",
    "data = pd.read_csv('data.csv')\n",
    "data.head()"
   ]
  },
  {
   "cell_type": "markdown",
   "metadata": {},
   "source": [
    "## Splitting columns\n",
    "\n",
    "You can see that the column **ZonaGeografica** includes two pieces of information separated by a hyphen. If you want to work with those pieces of information separately, you will have to split this column:"
   ]
  },
  {
   "cell_type": "code",
   "execution_count": 8,
   "metadata": {},
   "outputs": [
    {
     "data": {
      "text/plain": [
       "array(['BOGOTA DC-BOGOTA DC',\n",
       "       '* PROCEDENCIA DESCONOCIDA-* PROCEDENCIA DESCONOCIDA'],\n",
       "      dtype=object)"
      ]
     },
     "execution_count": 8,
     "metadata": {},
     "output_type": "execute_result"
    }
   ],
   "source": [
    "# See the unique values\n",
    "data.ZonaGeografica.unique()"
   ]
  },
  {
   "cell_type": "code",
   "execution_count": 10,
   "metadata": {},
   "outputs": [
    {
     "data": {
      "text/html": [
       "<div>\n",
       "<style scoped>\n",
       "    .dataframe tbody tr th:only-of-type {\n",
       "        vertical-align: middle;\n",
       "    }\n",
       "\n",
       "    .dataframe tbody tr th {\n",
       "        vertical-align: top;\n",
       "    }\n",
       "\n",
       "    .dataframe thead th {\n",
       "        text-align: right;\n",
       "    }\n",
       "</style>\n",
       "<table border=\"1\" class=\"dataframe\">\n",
       "  <thead>\n",
       "    <tr style=\"text-align: right;\">\n",
       "      <th></th>\n",
       "      <th>Departamento</th>\n",
       "      <th>Ciudad</th>\n",
       "    </tr>\n",
       "  </thead>\n",
       "  <tbody>\n",
       "    <tr>\n",
       "      <th>0</th>\n",
       "      <td>BOGOTA DC</td>\n",
       "      <td>BOGOTA DC</td>\n",
       "    </tr>\n",
       "    <tr>\n",
       "      <th>1</th>\n",
       "      <td>BOGOTA DC</td>\n",
       "      <td>BOGOTA DC</td>\n",
       "    </tr>\n",
       "    <tr>\n",
       "      <th>2</th>\n",
       "      <td>BOGOTA DC</td>\n",
       "      <td>BOGOTA DC</td>\n",
       "    </tr>\n",
       "    <tr>\n",
       "      <th>3</th>\n",
       "      <td>BOGOTA DC</td>\n",
       "      <td>BOGOTA DC</td>\n",
       "    </tr>\n",
       "    <tr>\n",
       "      <th>4</th>\n",
       "      <td>BOGOTA DC</td>\n",
       "      <td>BOGOTA DC</td>\n",
       "    </tr>\n",
       "    <tr>\n",
       "      <th>...</th>\n",
       "      <td>...</td>\n",
       "      <td>...</td>\n",
       "    </tr>\n",
       "    <tr>\n",
       "      <th>23029</th>\n",
       "      <td>BOGOTA DC</td>\n",
       "      <td>BOGOTA DC</td>\n",
       "    </tr>\n",
       "    <tr>\n",
       "      <th>23030</th>\n",
       "      <td>BOGOTA DC</td>\n",
       "      <td>BOGOTA DC</td>\n",
       "    </tr>\n",
       "    <tr>\n",
       "      <th>23031</th>\n",
       "      <td>BOGOTA DC</td>\n",
       "      <td>BOGOTA DC</td>\n",
       "    </tr>\n",
       "    <tr>\n",
       "      <th>23032</th>\n",
       "      <td>BOGOTA DC</td>\n",
       "      <td>BOGOTA DC</td>\n",
       "    </tr>\n",
       "    <tr>\n",
       "      <th>23033</th>\n",
       "      <td>BOGOTA DC</td>\n",
       "      <td>BOGOTA DC</td>\n",
       "    </tr>\n",
       "  </tbody>\n",
       "</table>\n",
       "<p>23034 rows × 2 columns</p>\n",
       "</div>"
      ],
      "text/plain": [
       "      Departamento     Ciudad\n",
       "0        BOGOTA DC  BOGOTA DC\n",
       "1        BOGOTA DC  BOGOTA DC\n",
       "2        BOGOTA DC  BOGOTA DC\n",
       "3        BOGOTA DC  BOGOTA DC\n",
       "4        BOGOTA DC  BOGOTA DC\n",
       "...            ...        ...\n",
       "23029    BOGOTA DC  BOGOTA DC\n",
       "23030    BOGOTA DC  BOGOTA DC\n",
       "23031    BOGOTA DC  BOGOTA DC\n",
       "23032    BOGOTA DC  BOGOTA DC\n",
       "23033    BOGOTA DC  BOGOTA DC\n",
       "\n",
       "[23034 rows x 2 columns]"
      ]
     },
     "execution_count": 10,
     "metadata": {},
     "output_type": "execute_result"
    }
   ],
   "source": [
    "# You use pandas to split columns\n",
    "data[['Departamento','Ciudad']] =  data.ZonaGeografica.str.split('-',expand=True,)\n",
    "data[['Departamento','Ciudad']]"
   ]
  },
  {
   "cell_type": "code",
   "execution_count": 11,
   "metadata": {},
   "outputs": [
    {
     "name": "stderr",
     "output_type": "stream",
     "text": [
      "/tmp/ipykernel_315/1890289436.py:1: FutureWarning: The frame.append method is deprecated and will be removed from pandas in a future version. Use pandas.concat instead.\n",
      "  data[['ZonaGeografica','Departamento','Ciudad']].head(2).append(data[['ZonaGeografica','Departamento','Ciudad']].tail(2))\n"
     ]
    },
    {
     "data": {
      "text/html": [
       "<div>\n",
       "<style scoped>\n",
       "    .dataframe tbody tr th:only-of-type {\n",
       "        vertical-align: middle;\n",
       "    }\n",
       "\n",
       "    .dataframe tbody tr th {\n",
       "        vertical-align: top;\n",
       "    }\n",
       "\n",
       "    .dataframe thead th {\n",
       "        text-align: right;\n",
       "    }\n",
       "</style>\n",
       "<table border=\"1\" class=\"dataframe\">\n",
       "  <thead>\n",
       "    <tr style=\"text-align: right;\">\n",
       "      <th></th>\n",
       "      <th>ZonaGeografica</th>\n",
       "      <th>Departamento</th>\n",
       "      <th>Ciudad</th>\n",
       "    </tr>\n",
       "  </thead>\n",
       "  <tbody>\n",
       "    <tr>\n",
       "      <th>0</th>\n",
       "      <td>BOGOTA DC-BOGOTA DC</td>\n",
       "      <td>BOGOTA DC</td>\n",
       "      <td>BOGOTA DC</td>\n",
       "    </tr>\n",
       "    <tr>\n",
       "      <th>1</th>\n",
       "      <td>BOGOTA DC-BOGOTA DC</td>\n",
       "      <td>BOGOTA DC</td>\n",
       "      <td>BOGOTA DC</td>\n",
       "    </tr>\n",
       "    <tr>\n",
       "      <th>23032</th>\n",
       "      <td>BOGOTA DC-BOGOTA DC</td>\n",
       "      <td>BOGOTA DC</td>\n",
       "      <td>BOGOTA DC</td>\n",
       "    </tr>\n",
       "    <tr>\n",
       "      <th>23033</th>\n",
       "      <td>BOGOTA DC-BOGOTA DC</td>\n",
       "      <td>BOGOTA DC</td>\n",
       "      <td>BOGOTA DC</td>\n",
       "    </tr>\n",
       "  </tbody>\n",
       "</table>\n",
       "</div>"
      ],
      "text/plain": [
       "            ZonaGeografica Departamento     Ciudad\n",
       "0      BOGOTA DC-BOGOTA DC    BOGOTA DC  BOGOTA DC\n",
       "1      BOGOTA DC-BOGOTA DC    BOGOTA DC  BOGOTA DC\n",
       "23032  BOGOTA DC-BOGOTA DC    BOGOTA DC  BOGOTA DC\n",
       "23033  BOGOTA DC-BOGOTA DC    BOGOTA DC  BOGOTA DC"
      ]
     },
     "execution_count": 11,
     "metadata": {},
     "output_type": "execute_result"
    }
   ],
   "source": [
    "data[['ZonaGeografica','Departamento','Ciudad']].head(2).append(data[['ZonaGeografica','Departamento','Ciudad']].tail(2))"
   ]
  },
  {
   "cell_type": "markdown",
   "metadata": {},
   "source": [
    "As another example, often times you will need to separate names into first and last names:"
   ]
  },
  {
   "cell_type": "code",
   "execution_count": null,
   "metadata": {},
   "outputs": [],
   "source": [
    "data[['Nombres']].head(10)"
   ]
  },
  {
   "cell_type": "code",
   "execution_count": null,
   "metadata": {},
   "outputs": [],
   "source": [
    "# Some names could have more that two names, for that reason you can use an additional parameter n where you define the number of splits.\n",
    "data[['PrimerNombre','SegundoNombre']] =  data.Nombres.str.split(n=1,expand=True,)"
   ]
  },
  {
   "cell_type": "code",
   "execution_count": null,
   "metadata": {},
   "outputs": [],
   "source": [
    "data[['Nombres','PrimerNombre','SegundoNombre']].head().append(data[['Nombres','PrimerNombre','SegundoNombre']].tail())"
   ]
  },
  {
   "cell_type": "markdown",
   "metadata": {},
   "source": [
    "### Exercise 1:\n",
    "\n",
    "Split the `Apellidos` column into `PrimerApellido` and `SegundoApellido`."
   ]
  },
  {
   "cell_type": "code",
   "execution_count": null,
   "metadata": {},
   "outputs": [],
   "source": [
    "# Your code"
   ]
  },
  {
   "cell_type": "markdown",
   "metadata": {},
   "source": [
    "## Working with categorical variables and dates"
   ]
  },
  {
   "cell_type": "markdown",
   "metadata": {},
   "source": [
    "Let's check the columns we have:"
   ]
  },
  {
   "cell_type": "code",
   "execution_count": null,
   "metadata": {},
   "outputs": [],
   "source": [
    "data.info()"
   ]
  },
  {
   "cell_type": "markdown",
   "metadata": {},
   "source": [
    "### `datetime` conversion\n",
    "\n",
    "You can see that `FechaMuestra` is structured as a date, but it cannot be manipulated as if it were a date! Thus, let's go ahead and convert it to a `datetime` object so that we can use various Python functions on it:"
   ]
  },
  {
   "cell_type": "code",
   "execution_count": null,
   "metadata": {},
   "outputs": [],
   "source": [
    "data.FechaMuestra.unique()"
   ]
  },
  {
   "cell_type": "code",
   "execution_count": null,
   "metadata": {},
   "outputs": [],
   "source": [
    "data.FechaMuestra = pd.to_datetime(data.FechaMuestra)"
   ]
  },
  {
   "cell_type": "code",
   "execution_count": null,
   "metadata": {},
   "outputs": [],
   "source": [
    "data.FechaMuestra.head(10)"
   ]
  },
  {
   "cell_type": "code",
   "execution_count": null,
   "metadata": {},
   "outputs": [],
   "source": [
    "# You can create additional information with the date as WeekDay\n",
    "# holidays\n",
    "\n",
    "data['WeekDay'] = data.FechaMuestra.dt.day_name()\n",
    "data.head(2)"
   ]
  },
  {
   "cell_type": "code",
   "execution_count": null,
   "metadata": {},
   "outputs": [],
   "source": [
    "data.WeekDay.unique()"
   ]
  },
  {
   "cell_type": "code",
   "execution_count": null,
   "metadata": {},
   "outputs": [],
   "source": [
    "# You can convert the column as categorical and do it ordered.\n",
    "cat_dtype = pd.api.types.CategoricalDtype(categories=['Monday','Tuesday','Wednesday','Thursday', 'Friday', 'Sunday', 'Saturday'], ordered=True)\n",
    "data.WeekDay = data.WeekDay.astype(cat_dtype) # int str "
   ]
  },
  {
   "cell_type": "code",
   "execution_count": null,
   "metadata": {},
   "outputs": [],
   "source": [
    "data.WeekDay.unique()"
   ]
  },
  {
   "cell_type": "markdown",
   "metadata": {},
   "source": [
    "### Replacing null values\n",
    "\n",
    "Now, we can do a `describe()` on the categorical variables to see more information about them:"
   ]
  },
  {
   "cell_type": "code",
   "execution_count": null,
   "metadata": {},
   "outputs": [],
   "source": [
    "data.describe(include ='O')"
   ]
  },
  {
   "cell_type": "markdown",
   "metadata": {},
   "source": [
    "For example, `Sexo` has four categories:"
   ]
  },
  {
   "cell_type": "code",
   "execution_count": null,
   "metadata": {},
   "outputs": [],
   "source": [
    "data.Sexo.unique()"
   ]
  },
  {
   "cell_type": "markdown",
   "metadata": {},
   "source": [
    "You can see that there are problems with this column; namely, you need to unify the values and replace the null ones:"
   ]
  },
  {
   "cell_type": "code",
   "execution_count": null,
   "metadata": {},
   "outputs": [],
   "source": [
    "sexo = {'Mujer':'Femenino','Hombre':'Masculino','Femenino':'Femenino','Masculino':'Masculino'}"
   ]
  },
  {
   "cell_type": "code",
   "execution_count": null,
   "metadata": {},
   "outputs": [],
   "source": [
    "data.Sexo = data.Sexo.map(sexo)"
   ]
  },
  {
   "cell_type": "code",
   "execution_count": null,
   "metadata": {},
   "outputs": [],
   "source": [
    "data.Sexo.unique()"
   ]
  },
  {
   "cell_type": "code",
   "execution_count": null,
   "metadata": {},
   "outputs": [],
   "source": [
    "data.Sexo.fillna('Sin Información', inplace = True)"
   ]
  },
  {
   "cell_type": "code",
   "execution_count": null,
   "metadata": {},
   "outputs": [],
   "source": [
    "data.Sexo.unique()"
   ]
  },
  {
   "cell_type": "markdown",
   "metadata": {},
   "source": [
    "### Encoding labels\n",
    "\n",
    "Sometimes, it is helpful to encode categorical variable values as numbers instead of text:"
   ]
  },
  {
   "cell_type": "code",
   "execution_count": null,
   "metadata": {},
   "outputs": [],
   "source": [
    "data.info()"
   ]
  },
  {
   "cell_type": "code",
   "execution_count": null,
   "metadata": {},
   "outputs": [],
   "source": [
    "data.Sexo = data.Sexo.astype('category')"
   ]
  },
  {
   "cell_type": "code",
   "execution_count": null,
   "metadata": {},
   "outputs": [],
   "source": [
    "data.Sexo.unique()"
   ]
  },
  {
   "cell_type": "code",
   "execution_count": null,
   "metadata": {},
   "outputs": [],
   "source": [
    "data.head(2)"
   ]
  },
  {
   "cell_type": "markdown",
   "metadata": {},
   "source": [
    "Then you can assign the encoded variable to a new column:"
   ]
  },
  {
   "cell_type": "code",
   "execution_count": null,
   "metadata": {},
   "outputs": [],
   "source": [
    "data.Sexo.cat.codes"
   ]
  },
  {
   "cell_type": "code",
   "execution_count": null,
   "metadata": {},
   "outputs": [],
   "source": [
    "# you \n",
    "data['SexoCat'] = data.Sexo.cat.codes"
   ]
  },
  {
   "cell_type": "code",
   "execution_count": null,
   "metadata": {},
   "outputs": [],
   "source": [
    "data.head(2)"
   ]
  },
  {
   "cell_type": "code",
   "execution_count": null,
   "metadata": {
    "scrolled": true
   },
   "outputs": [],
   "source": [
    "from sklearn.preprocessing import LabelEncoder\n",
    "\n",
    "lb_make = LabelEncoder()\n",
    "data[\"CodeSexo\"] = lb_make.fit_transform(data[\"Sexo\"])\n",
    "data[[\"Sexo\", \"CodeSexo\"]].head(10)"
   ]
  },
  {
   "cell_type": "code",
   "execution_count": null,
   "metadata": {},
   "outputs": [],
   "source": [
    "data[\"CodeSexo\"].value_counts()"
   ]
  },
  {
   "cell_type": "markdown",
   "metadata": {},
   "source": [
    "### One-hot encoding\n",
    "\n",
    "We can go one step further - instead of replacing each possible value of a categorical variable with a number, we can create *separate* columns for each possible value and assign a 1 or 0 (True or False) value to that column. A 1 indicates that that particular row's value for that categorical variable matches the value corresponding to that particular column, and 0 otherwise:"
   ]
  },
  {
   "cell_type": "code",
   "execution_count": null,
   "metadata": {},
   "outputs": [],
   "source": [
    "pd.get_dummies(data, columns=[\"Sexo\"]).head(2)"
   ]
  },
  {
   "cell_type": "code",
   "execution_count": null,
   "metadata": {},
   "outputs": [],
   "source": [
    "data[\"Sexo\"].values"
   ]
  },
  {
   "cell_type": "code",
   "execution_count": null,
   "metadata": {},
   "outputs": [],
   "source": [
    "from sklearn.preprocessing import LabelBinarizer\n",
    "\n",
    "jobs_encoder = LabelBinarizer()\n",
    "jobs_encoder.fit(data['Sexo'])\n",
    "transformed = jobs_encoder.transform(data['Sexo'])\n",
    "ohe_df = pd.DataFrame(transformed)\n",
    "ohe_df.head()"
   ]
  },
  {
   "cell_type": "code",
   "execution_count": null,
   "metadata": {},
   "outputs": [],
   "source": [
    "from sklearn.preprocessing import LabelBinarizer\n",
    "\n",
    "jobs_encoder = LabelBinarizer()\n",
    "jobs_encoder.fit(data['Sexo'])\n",
    "transformed = jobs_encoder.transform(data['Sexo'])\n",
    "ohe_df = pd.DataFrame(transformed)\n",
    "data = pd.concat([data, ohe_df], axis=1)"
   ]
  },
  {
   "cell_type": "code",
   "execution_count": null,
   "metadata": {},
   "outputs": [],
   "source": [
    "data.head(2)"
   ]
  },
  {
   "cell_type": "code",
   "execution_count": null,
   "metadata": {},
   "outputs": [],
   "source": [
    "from sklearn.preprocessing import OneHotEncoder\n",
    "\n",
    "enc = OneHotEncoder()"
   ]
  },
  {
   "cell_type": "code",
   "execution_count": null,
   "metadata": {},
   "outputs": [],
   "source": [
    "pd.__version__"
   ]
  },
  {
   "cell_type": "code",
   "execution_count": null,
   "metadata": {},
   "outputs": [],
   "source": [
    "X = data['Sexo'].to_numpy().reshape(-1, 1)\n",
    "X"
   ]
  },
  {
   "cell_type": "code",
   "execution_count": null,
   "metadata": {},
   "outputs": [],
   "source": [
    "X = data['Sexo'].to_numpy().reshape(-1, 1)\n",
    "enc.fit(X)"
   ]
  },
  {
   "cell_type": "code",
   "execution_count": null,
   "metadata": {},
   "outputs": [],
   "source": [
    "enc.categories_"
   ]
  },
  {
   "cell_type": "code",
   "execution_count": null,
   "metadata": {},
   "outputs": [],
   "source": [
    "enc.transform(X).toarray()"
   ]
  },
  {
   "cell_type": "code",
   "execution_count": null,
   "metadata": {},
   "outputs": [],
   "source": [
    "enc.inverse_transform([[1., 0., 0.],[0., 1., 0.],[0., 0., 1.]])"
   ]
  },
  {
   "cell_type": "code",
   "execution_count": null,
   "metadata": {},
   "outputs": [],
   "source": [
    "enc.get_feature_names(['Gender'])"
   ]
  },
  {
   "cell_type": "code",
   "execution_count": null,
   "metadata": {},
   "outputs": [],
   "source": [
    "pd.set_option('max_columns', None)\n",
    "data.head(2)"
   ]
  },
  {
   "cell_type": "markdown",
   "metadata": {},
   "source": [
    "### Selecting columns by type\n",
    "\n",
    "If you want to only work with categorical variables, it is possible via the `select_dtypes()` method:"
   ]
  },
  {
   "cell_type": "code",
   "execution_count": null,
   "metadata": {},
   "outputs": [],
   "source": [
    "cat_data = data.select_dtypes(include=['object']).copy()\n",
    "cat_data.info()"
   ]
  },
  {
   "cell_type": "markdown",
   "metadata": {},
   "source": [
    "### Creating a unique identifier\n",
    "\n",
    "In some situations, you will not have a unique identifier readily available for your data. However, you can create one based on a combination of the available data, such that no two rows could possibly ever exhibit the same combination. Here, for examples, the columns `Nombres` and `Apellidos` can be combined and converted into a unique ID:"
   ]
  },
  {
   "cell_type": "code",
   "execution_count": null,
   "metadata": {},
   "outputs": [],
   "source": [
    "data['id_unique'] = data.apply(lambda x: ':'.join([str(x['Nombres']), str(x['Apellidos'])]), axis=1)\n",
    "data['id_unique'].head()"
   ]
  },
  {
   "cell_type": "code",
   "execution_count": null,
   "metadata": {},
   "outputs": [],
   "source": [
    "data['id_unique'] = data.apply(lambda x: ':'.join([str(x['Nombres']), str(x['Apellidos'])]), axis=1)\n",
    "data['id_unique'] = data['id_unique'].apply(lambda x: base64.b64encode(x.encode()).decode())\n",
    "data['id_unique'].unique()"
   ]
  },
  {
   "cell_type": "markdown",
   "metadata": {},
   "source": [
    "### Working with null values\n",
    "\n",
    "There are a few ways to go about handling null values in `pandas` DataFrames. Earlier, we simply replaced missing values with text that indicated that no information was available.\n",
    "\n",
    "Here, we will use a new method - **imputation**. Let's first check which of our columns actually contain null values:"
   ]
  },
  {
   "cell_type": "code",
   "execution_count": null,
   "metadata": {},
   "outputs": [],
   "source": [
    "data = pd.read_csv('crypto-markets.txt')\n",
    "data.head(2)"
   ]
  },
  {
   "cell_type": "code",
   "execution_count": null,
   "metadata": {},
   "outputs": [],
   "source": [
    "data.isnull().any()"
   ]
  },
  {
   "cell_type": "markdown",
   "metadata": {},
   "source": [
    "We'll go ahead and **impute** the missing values; that is, find suitable replacement values based on **interpolating** from the rest of the data: "
   ]
  },
  {
   "cell_type": "code",
   "execution_count": null,
   "metadata": {},
   "outputs": [],
   "source": [
    "imputer = IterativeImputer()\n",
    "\n",
    "cols_to_impute = ['open', 'low']\n",
    "\n",
    "imputed_df = pd.DataFrame(imputer.fit_transform(data[cols_to_impute]))\n",
    "\n",
    "print(imputed_df.head(2))\n",
    "imputed_df.columns = cols_to_impute\n",
    "\n",
    "data[cols_to_impute] = imputed_df[cols_to_impute]\n",
    "\n",
    "data.isnull().any()"
   ]
  },
  {
   "cell_type": "markdown",
   "metadata": {},
   "source": [
    "## Strings\n",
    "\n",
    "String manipulation is another important component of data transformation."
   ]
  },
  {
   "cell_type": "code",
   "execution_count": null,
   "metadata": {},
   "outputs": [],
   "source": [
    "text = \"Hello, \\n\\tWorld!\"\n",
    "text"
   ]
  },
  {
   "cell_type": "code",
   "execution_count": null,
   "metadata": {},
   "outputs": [],
   "source": [
    "print(text)"
   ]
  },
  {
   "cell_type": "markdown",
   "metadata": {},
   "source": [
    "When working with strings, we can use the `string` library to access some useful characters:"
   ]
  },
  {
   "cell_type": "code",
   "execution_count": null,
   "metadata": {},
   "outputs": [],
   "source": [
    "import string\n",
    "from string import Formatter\n",
    "from string import Template\n",
    "\n",
    "# String constants\n",
    "print('ascii_letters: ',string.ascii_letters)\n",
    "print('ascii_lowercase: ',string.ascii_lowercase)\n",
    "print('ascii_uppercase: ',string.ascii_uppercase)\n",
    "print('digits: ',string.digits)\n",
    "print('hexdigits: ',string.hexdigits)\n",
    "print('whitespace: ',string.whitespace)  # ' \\t\\n\\r\\x0b\\x0c'\n",
    "print('punctuation: ',string.punctuation)\n",
    "print('printable: ',string.printable)"
   ]
  },
  {
   "cell_type": "code",
   "execution_count": null,
   "metadata": {},
   "outputs": [],
   "source": [
    "# Changing text\n",
    "print('hello world ds4a'.capitalize())\n",
    "print('hello world ds4a'.upper())\n",
    "print('HELLO WORLD DS4A'.lower())\n",
    "print('  123456  '.lstrip())\n",
    "print('  123456  '.rstrip())\n",
    "print('  123456  '.strip())"
   ]
  },
  {
   "cell_type": "code",
   "execution_count": null,
   "metadata": {},
   "outputs": [],
   "source": [
    "# Looking in text\n",
    "print('hello world ds4a'.count('o'))\n",
    "print('hello world ds4a'.endswith('a'))\n",
    "print('hello world ds4a'.startswith('a'))\n",
    "print('hello world ds4a'.find('o'))\n",
    "print('hello world ds4a'.find('z'))\n",
    "print('hello world ds4a'.index('o'))\n",
    "print('hello123'.isalnum()) # Return True if all characters in the string are alphanumeric and there is at least one character, False otherwise.\n",
    "print('123456'.isdigit()) # Return True if all characters in the string are digits and there is at least one character, False otherwise. \n",
    "print('hello'.isalpha()) # Return True if all characters in the string are alphabetic and there is at least one character, False otherwise."
   ]
  },
  {
   "cell_type": "code",
   "execution_count": null,
   "metadata": {},
   "outputs": [],
   "source": [
    "# Other functions\n",
    "print('hello'.center(50,'*'))\n",
    "print('123456'.zfill(10))"
   ]
  }
 ],
 "metadata": {
  "anaconda-cloud": {},
  "kernelspec": {
   "display_name": "Python 3 (ipykernel)",
   "language": "python",
   "name": "python3"
  },
  "language_info": {
   "codemirror_mode": {
    "name": "ipython",
    "version": 3
   },
   "file_extension": ".py",
   "mimetype": "text/x-python",
   "name": "python",
   "nbconvert_exporter": "python",
   "pygments_lexer": "ipython3",
   "version": "3.10.5"
  }
 },
 "nbformat": 4,
 "nbformat_minor": 4
}
